{
 "nbformat": 4,
 "nbformat_minor": 0,
 "metadata": {
  "colab": {
   "provenance": []
  },
  "kernelspec": {
   "name": "python3",
   "language": "python",
   "display_name": "Python 3 (ipykernel)"
  }
 },
 "cells": [
  {
   "cell_type": "markdown",
   "metadata": {
    "id": "V2tCO10RQu36"
   },
   "source": [
    "Сегодня мы попробуем поработать с библиотекой scikit-learn. Эта библиотека включает в себя множество алгоритмов, несколько тестовых наборов данных, функции для подсчета метрик и подбора параметров.\n",
    "\n",
    "---\n",
    "\n",
    "Scikit-learn появился как проект David Cournapeau на Google Summer of Code. Позднее к проекту присоединились другие разработчики, и первый релиз библиотеки состоялся 1 февраля 2010 года. Она быстро стало популярной за большое количество алгоритмов и простоту использования. sklearn полезна для экспериментов,  написания быстрых прототипов, участия в соревнованиях по анализу данных и во множестве других приложения. В тоже время, для промышленных проектов она может не подходить ввиду не оптимизированного кода и выбранного языка.\n",
    "\n"
   ]
  },
  {
   "cell_type": "markdown",
   "metadata": {
    "id": "DWjobx8iS30c"
   },
   "source": [
    "Возьмем стандартный датасет. Датасет содержит информацию о квартирах в Бостоне и их параметрах."
   ]
  },
  {
   "cell_type": "markdown",
   "source": [
    "Посмотрим на поля датасета."
   ],
   "metadata": {
    "id": "IF--lWnuAcCo"
   }
  },
  {
   "cell_type": "code",
   "source": [
    "import pandas as pd\n",
    "import numpy as np\n",
    "data_url = \"http://lib.stat.cmu.edu/datasets/boston\"\n",
    "raw_df = pd.read_csv(data_url, sep=\"\\s+\", skiprows=22, header=None)\n",
    "data = np.hstack([raw_df.values[::2, :], raw_df.values[1::2, :2]])\n",
    "target = raw_df.values[1::2, 2]"
   ],
   "metadata": {
    "id": "fqyRKkyBJgt4",
    "ExecuteTime": {
     "end_time": "2024-12-05T06:42:24.898020400Z",
     "start_time": "2024-12-05T06:42:20.601591300Z"
    }
   },
   "execution_count": 1,
   "outputs": []
  },
  {
   "cell_type": "code",
   "execution_count": 2,
   "outputs": [
    {
     "data": {
      "text/plain": "             0      1      2    3      4      5     6       7    8      9   \\\n0       0.00632  18.00   2.31  0.0  0.538  6.575  65.2  4.0900  1.0  296.0   \n1     396.90000   4.98  24.00  NaN    NaN    NaN   NaN     NaN  NaN    NaN   \n2       0.02731   0.00   7.07  0.0  0.469  6.421  78.9  4.9671  2.0  242.0   \n3     396.90000   9.14  21.60  NaN    NaN    NaN   NaN     NaN  NaN    NaN   \n4       0.02729   0.00   7.07  0.0  0.469  7.185  61.1  4.9671  2.0  242.0   \n...         ...    ...    ...  ...    ...    ...   ...     ...  ...    ...   \n1007  396.90000   5.64  23.90  NaN    NaN    NaN   NaN     NaN  NaN    NaN   \n1008    0.10959   0.00  11.93  0.0  0.573  6.794  89.3  2.3889  1.0  273.0   \n1009  393.45000   6.48  22.00  NaN    NaN    NaN   NaN     NaN  NaN    NaN   \n1010    0.04741   0.00  11.93  0.0  0.573  6.030  80.8  2.5050  1.0  273.0   \n1011  396.90000   7.88  11.90  NaN    NaN    NaN   NaN     NaN  NaN    NaN   \n\n        10  \n0     15.3  \n1      NaN  \n2     17.8  \n3      NaN  \n4     17.8  \n...    ...  \n1007   NaN  \n1008  21.0  \n1009   NaN  \n1010  21.0  \n1011   NaN  \n\n[1012 rows x 11 columns]",
      "text/html": "<div>\n<style scoped>\n    .dataframe tbody tr th:only-of-type {\n        vertical-align: middle;\n    }\n\n    .dataframe tbody tr th {\n        vertical-align: top;\n    }\n\n    .dataframe thead th {\n        text-align: right;\n    }\n</style>\n<table border=\"1\" class=\"dataframe\">\n  <thead>\n    <tr style=\"text-align: right;\">\n      <th></th>\n      <th>0</th>\n      <th>1</th>\n      <th>2</th>\n      <th>3</th>\n      <th>4</th>\n      <th>5</th>\n      <th>6</th>\n      <th>7</th>\n      <th>8</th>\n      <th>9</th>\n      <th>10</th>\n    </tr>\n  </thead>\n  <tbody>\n    <tr>\n      <th>0</th>\n      <td>0.00632</td>\n      <td>18.00</td>\n      <td>2.31</td>\n      <td>0.0</td>\n      <td>0.538</td>\n      <td>6.575</td>\n      <td>65.2</td>\n      <td>4.0900</td>\n      <td>1.0</td>\n      <td>296.0</td>\n      <td>15.3</td>\n    </tr>\n    <tr>\n      <th>1</th>\n      <td>396.90000</td>\n      <td>4.98</td>\n      <td>24.00</td>\n      <td>NaN</td>\n      <td>NaN</td>\n      <td>NaN</td>\n      <td>NaN</td>\n      <td>NaN</td>\n      <td>NaN</td>\n      <td>NaN</td>\n      <td>NaN</td>\n    </tr>\n    <tr>\n      <th>2</th>\n      <td>0.02731</td>\n      <td>0.00</td>\n      <td>7.07</td>\n      <td>0.0</td>\n      <td>0.469</td>\n      <td>6.421</td>\n      <td>78.9</td>\n      <td>4.9671</td>\n      <td>2.0</td>\n      <td>242.0</td>\n      <td>17.8</td>\n    </tr>\n    <tr>\n      <th>3</th>\n      <td>396.90000</td>\n      <td>9.14</td>\n      <td>21.60</td>\n      <td>NaN</td>\n      <td>NaN</td>\n      <td>NaN</td>\n      <td>NaN</td>\n      <td>NaN</td>\n      <td>NaN</td>\n      <td>NaN</td>\n      <td>NaN</td>\n    </tr>\n    <tr>\n      <th>4</th>\n      <td>0.02729</td>\n      <td>0.00</td>\n      <td>7.07</td>\n      <td>0.0</td>\n      <td>0.469</td>\n      <td>7.185</td>\n      <td>61.1</td>\n      <td>4.9671</td>\n      <td>2.0</td>\n      <td>242.0</td>\n      <td>17.8</td>\n    </tr>\n    <tr>\n      <th>...</th>\n      <td>...</td>\n      <td>...</td>\n      <td>...</td>\n      <td>...</td>\n      <td>...</td>\n      <td>...</td>\n      <td>...</td>\n      <td>...</td>\n      <td>...</td>\n      <td>...</td>\n      <td>...</td>\n    </tr>\n    <tr>\n      <th>1007</th>\n      <td>396.90000</td>\n      <td>5.64</td>\n      <td>23.90</td>\n      <td>NaN</td>\n      <td>NaN</td>\n      <td>NaN</td>\n      <td>NaN</td>\n      <td>NaN</td>\n      <td>NaN</td>\n      <td>NaN</td>\n      <td>NaN</td>\n    </tr>\n    <tr>\n      <th>1008</th>\n      <td>0.10959</td>\n      <td>0.00</td>\n      <td>11.93</td>\n      <td>0.0</td>\n      <td>0.573</td>\n      <td>6.794</td>\n      <td>89.3</td>\n      <td>2.3889</td>\n      <td>1.0</td>\n      <td>273.0</td>\n      <td>21.0</td>\n    </tr>\n    <tr>\n      <th>1009</th>\n      <td>393.45000</td>\n      <td>6.48</td>\n      <td>22.00</td>\n      <td>NaN</td>\n      <td>NaN</td>\n      <td>NaN</td>\n      <td>NaN</td>\n      <td>NaN</td>\n      <td>NaN</td>\n      <td>NaN</td>\n      <td>NaN</td>\n    </tr>\n    <tr>\n      <th>1010</th>\n      <td>0.04741</td>\n      <td>0.00</td>\n      <td>11.93</td>\n      <td>0.0</td>\n      <td>0.573</td>\n      <td>6.030</td>\n      <td>80.8</td>\n      <td>2.5050</td>\n      <td>1.0</td>\n      <td>273.0</td>\n      <td>21.0</td>\n    </tr>\n    <tr>\n      <th>1011</th>\n      <td>396.90000</td>\n      <td>7.88</td>\n      <td>11.90</td>\n      <td>NaN</td>\n      <td>NaN</td>\n      <td>NaN</td>\n      <td>NaN</td>\n      <td>NaN</td>\n      <td>NaN</td>\n      <td>NaN</td>\n      <td>NaN</td>\n    </tr>\n  </tbody>\n</table>\n<p>1012 rows × 11 columns</p>\n</div>"
     },
     "execution_count": 2,
     "metadata": {},
     "output_type": "execute_result"
    }
   ],
   "source": [
    "raw_df"
   ],
   "metadata": {
    "collapsed": false,
    "ExecuteTime": {
     "end_time": "2024-12-05T06:42:24.937018700Z",
     "start_time": "2024-12-05T06:42:24.900022300Z"
    }
   }
  },
  {
   "cell_type": "code",
   "execution_count": 30,
   "outputs": [
    {
     "data": {
      "text/plain": "array([[6.3200e-03, 1.8000e+01, 2.3100e+00, ..., 1.5300e+01, 3.9690e+02,\n        4.9800e+00],\n       [2.7310e-02, 0.0000e+00, 7.0700e+00, ..., 1.7800e+01, 3.9690e+02,\n        9.1400e+00],\n       [2.7290e-02, 0.0000e+00, 7.0700e+00, ..., 1.7800e+01, 3.9283e+02,\n        4.0300e+00],\n       ...,\n       [6.0760e-02, 0.0000e+00, 1.1930e+01, ..., 2.1000e+01, 3.9690e+02,\n        5.6400e+00],\n       [1.0959e-01, 0.0000e+00, 1.1930e+01, ..., 2.1000e+01, 3.9345e+02,\n        6.4800e+00],\n       [4.7410e-02, 0.0000e+00, 1.1930e+01, ..., 2.1000e+01, 3.9690e+02,\n        7.8800e+00]])"
     },
     "execution_count": 30,
     "metadata": {},
     "output_type": "execute_result"
    }
   ],
   "source": [
    "data"
   ],
   "metadata": {
    "collapsed": false,
    "ExecuteTime": {
     "end_time": "2024-12-05T07:13:05.943282100Z",
     "start_time": "2024-12-05T07:13:05.885468600Z"
    }
   }
  },
  {
   "cell_type": "code",
   "source": [
    "y = target\n",
    "x = data"
   ],
   "metadata": {
    "id": "At53k7hHJ4wV",
    "ExecuteTime": {
     "end_time": "2024-12-05T06:42:24.963024500Z",
     "start_time": "2024-12-05T06:42:24.932020100Z"
    }
   },
   "execution_count": 3,
   "outputs": []
  },
  {
   "cell_type": "code",
   "metadata": {
    "id": "D99aucKZTl9l",
    "outputId": "16b59b6d-bb7f-419b-80f2-7132eb0f7bc7",
    "colab": {
     "base_uri": "https://localhost:8080/"
    },
    "ExecuteTime": {
     "end_time": "2024-12-05T06:42:25.141021400Z",
     "start_time": "2024-12-05T06:42:24.946022100Z"
    }
   },
   "source": [
    "print(\"Размер матрицы объектов: \", x.shape)\n",
    "print(\"Рaзмер вектора y: \", y.shape)"
   ],
   "execution_count": 4,
   "outputs": [
    {
     "name": "stdout",
     "output_type": "stream",
     "text": [
      "Размер матрицы объектов:  (506, 13)\n",
      "Рaзмер вектора y:  (506,)\n"
     ]
    }
   ]
  },
  {
   "cell_type": "markdown",
   "metadata": {
    "id": "oQmDZ97ClMfd"
   },
   "source": [
    "Посмотрим на наши данные. Давайте построим  график того, как зависит цена от криминогенной обстановки. Для этого воспользуемся библиотекой matplotlib."
   ]
  },
  {
   "cell_type": "code",
   "metadata": {
    "id": "2k9R9aAdlLmQ",
    "ExecuteTime": {
     "end_time": "2024-12-05T06:42:25.907022300Z",
     "start_time": "2024-12-05T06:42:24.963024500Z"
    }
   },
   "source": [
    "from matplotlib import pyplot as plt"
   ],
   "execution_count": 5,
   "outputs": []
  },
  {
   "cell_type": "code",
   "metadata": {
    "id": "M6om5C9Rlfiq",
    "outputId": "ae29a17f-eeb4-41d9-fca7-060d7339ea88",
    "colab": {
     "base_uri": "https://localhost:8080/",
     "height": 467
    },
    "ExecuteTime": {
     "end_time": "2024-12-05T06:42:26.187020500Z",
     "start_time": "2024-12-05T06:42:25.909023500Z"
    }
   },
   "source": [
    "plt.scatter(x[:,0], y)\n",
    "plt.xlabel('Crime rate')\n",
    "plt.ylabel('Price')"
   ],
   "execution_count": 6,
   "outputs": [
    {
     "data": {
      "text/plain": "Text(0, 0.5, 'Price')"
     },
     "execution_count": 6,
     "metadata": {},
     "output_type": "execute_result"
    },
    {
     "data": {
      "text/plain": "<Figure size 640x480 with 1 Axes>",
      "image/png": "[encoded data removed]"
     },
     "metadata": {},
     "output_type": "display_data"
    }
   ]
  },
  {
   "cell_type": "markdown",
   "metadata": {
    "id": "7Kov6hgVl7Za"
   },
   "source": [
    "Как мы видим, все закономерно, дорогие квартиры находятся в районах с низким уровнем преступности."
   ]
  },
  {
   "cell_type": "code",
   "metadata": {
    "id": "OCyzTCzC-RPX",
    "ExecuteTime": {
     "end_time": "2024-12-05T06:42:29.293516100Z",
     "start_time": "2024-12-05T06:42:26.188021200Z"
    }
   },
   "source": [
    "from sklearn.model_selection import train_test_split"
   ],
   "execution_count": 7,
   "outputs": []
  },
  {
   "cell_type": "markdown",
   "metadata": {
    "id": "cgsrEl4AWf-H"
   },
   "source": [
    "С помощью функции `train_test_split` разобьем выборку на `train` и `test`."
   ]
  },
  {
   "cell_type": "code",
   "metadata": {
    "id": "fmyIUVKa-Wn5",
    "ExecuteTime": {
     "end_time": "2024-12-05T06:42:29.309380900Z",
     "start_time": "2024-12-05T06:42:29.296499700Z"
    }
   },
   "source": [
    "X_train, X_test, y_train, y_test = train_test_split(x, y, test_size=0.2)"
   ],
   "execution_count": 8,
   "outputs": []
  },
  {
   "cell_type": "code",
   "metadata": {
    "id": "B0-pFImWNpVX",
    "ExecuteTime": {
     "end_time": "2024-12-05T06:42:29.756537800Z",
     "start_time": "2024-12-05T06:42:29.310347600Z"
    }
   },
   "source": [
    "from sklearn.neighbors import KNeighborsRegressor\n"
   ],
   "execution_count": 9,
   "outputs": []
  },
  {
   "cell_type": "markdown",
   "metadata": {
    "id": "sQ1uFgktcw7m"
   },
   "source": [
    "В sklearn, разные методы лежат в разных модулях. Например в linear_model находятся линейные модели, в neighbors - методы основанные на ближайших соседях."
   ]
  },
  {
   "cell_type": "markdown",
   "metadata": {
    "id": "eQ7y2N9EWwF7"
   },
   "source": [
    "Импортируем алгоритм knn из sklearn. Работа с алгоритмами машинного обучения в библиотеке состоит из трех этапов.\n",
    "\n",
    "\n",
    "\n",
    "1.   Создание объекта, который будет реализовывать алгоритм.\n",
    "2.   Вызов `fit`: обучение модели на тренировочной подвыборке\n",
    "3.   Вызов `predict`: получение предсказаний на тестовой выборке\n",
    "\n"
   ]
  },
  {
   "cell_type": "code",
   "metadata": {
    "id": "xdXI0BlZ-MaH",
    "ExecuteTime": {
     "end_time": "2024-12-05T06:42:29.765536Z",
     "start_time": "2024-12-05T06:42:29.754536700Z"
    }
   },
   "source": [
    "knn = KNeighborsRegressor(n_neighbors=5, weights='uniform', p=2)"
   ],
   "execution_count": 10,
   "outputs": []
  },
  {
   "cell_type": "code",
   "metadata": {
    "id": "2vJhFTPM-_hw",
    "outputId": "ee47e819-82a0-408e-f20b-5ff5833f2722",
    "colab": {
     "base_uri": "https://localhost:8080/",
     "height": 80
    },
    "ExecuteTime": {
     "end_time": "2024-12-05T06:42:29.808539500Z",
     "start_time": "2024-12-05T06:42:29.768534800Z"
    }
   },
   "source": [
    "knn.fit(X_train, y_train)"
   ],
   "execution_count": 11,
   "outputs": [
    {
     "data": {
      "text/plain": "KNeighborsRegressor()",
      "text/html": "<style>#sk-container-id-1 {\n  /* Definition of color scheme common for light and dark mode */\n  --sklearn-color-text: black;\n  --sklearn-color-line: gray;\n  /* Definition of color scheme for unfitted estimators */\n  --sklearn-color-unfitted-level-0: #fff5e6;\n  --sklearn-color-unfitted-level-1: #f6e4d2;\n  --sklearn-color-unfitted-level-2: #ffe0b3;\n  --sklearn-color-unfitted-level-3: chocolate;\n  /* Definition of color scheme for fitted estimators */\n  --sklearn-color-fitted-level-0: #f0f8ff;\n  --sklearn-color-fitted-level-1: #d4ebff;\n  --sklearn-color-fitted-level-2: #b3dbfd;\n  --sklearn-color-fitted-level-3: cornflowerblue;\n\n  /* Specific color for light theme */\n  --sklearn-color-text-on-default-background: var(--sg-text-color, var(--theme-code-foreground, var(--jp-content-font-color1, black)));\n  --sklearn-color-background: var(--sg-background-color, var(--theme-background, var(--jp-layout-color0, white)));\n  --sklearn-color-border-box: var(--sg-text-color, var(--theme-code-foreground, var(--jp-content-font-color1, black)));\n  --sklearn-color-icon: #696969;\n\n  @media (prefers-color-scheme: dark) {\n    /* Redefinition of color scheme for dark theme */\n    --sklearn-color-text-on-default-background: var(--sg-text-color, var(--theme-code-foreground, var(--jp-content-font-color1, white)));\n    --sklearn-color-background: var(--sg-background-color, var(--theme-background, var(--jp-layout-color0, #111)));\n    --sklearn-color-border-box: var(--sg-text-color, var(--theme-code-foreground, var(--jp-content-font-color1, white)));\n    --sklearn-color-icon: #878787;\n  }\n}\n\n#sk-container-id-1 {\n  color: var(--sklearn-color-text);\n}\n\n#sk-container-id-1 pre {\n  padding: 0;\n}\n\n#sk-container-id-1 input.sk-hidden--visually {\n  border: 0;\n  clip: rect(1px 1px 1px 1px);\n  clip: rect(1px, 1px, 1px, 1px);\n  height: 1px;\n  margin: -1px;\n  overflow: hidden;\n  padding: 0;\n  position: absolute;\n  width: 1px;\n}\n\n#sk-container-id-1 div.sk-dashed-wrapped {\n  border: 1px dashed var(--sklearn-color-line);\n  margin: 0 0.4em 0.5em 0.4em;\n  box-sizing: border-box;\n  padding-bottom: 0.4em;\n  background-color: var(--sklearn-color-background);\n}\n\n#sk-container-id-1 div.sk-container {\n  /* jupyter's `normalize.less` sets `[hidden] { display: none; }`\n     but bootstrap.min.css set `[hidden] { display: none !important; }`\n     so we also need the `!important` here to be able to override the\n     default hidden behavior on the sphinx rendered scikit-learn.org.\n     See: https://github.com/scikit-learn/scikit-learn/issues/21755 */\n  display: inline-block !important;\n  position: relative;\n}\n\n#sk-container-id-1 div.sk-text-repr-fallback {\n  display: none;\n}\n\ndiv.sk-parallel-item,\ndiv.sk-serial,\ndiv.sk-item {\n  /* draw centered vertical line to link estimators */\n  background-image: linear-gradient(var(--sklearn-color-text-on-default-background), var(--sklearn-color-text-on-default-background));\n  background-size: 2px 100%;\n  background-repeat: no-repeat;\n  background-position: center center;\n}\n\n/* Parallel-specific style estimator block */\n\n#sk-container-id-1 div.sk-parallel-item::after {\n  content: \"\";\n  width: 100%;\n  border-bottom: 2px solid var(--sklearn-color-text-on-default-background);\n  flex-grow: 1;\n}\n\n#sk-container-id-1 div.sk-parallel {\n  display: flex;\n  align-items: stretch;\n  justify-content: center;\n  background-color: var(--sklearn-color-background);\n  position: relative;\n}\n\n#sk-container-id-1 div.sk-parallel-item {\n  display: flex;\n  flex-direction: column;\n}\n\n#sk-container-id-1 div.sk-parallel-item:first-child::after {\n  align-self: flex-end;\n  width: 50%;\n}\n\n#sk-container-id-1 div.sk-parallel-item:last-child::after {\n  align-self: flex-start;\n  width: 50%;\n}\n\n#sk-container-id-1 div.sk-parallel-item:only-child::after {\n  width: 0;\n}\n\n/* Serial-specific style estimator block */\n\n#sk-container-id-1 div.sk-serial {\n  display: flex;\n  flex-direction: column;\n  align-items: center;\n  background-color: var(--sklearn-color-background);\n  padding-right: 1em;\n  padding-left: 1em;\n}\n\n\n/* Toggleable style: style used for estimator/Pipeline/ColumnTransformer box that is\nclickable and can be expanded/collapsed.\n- Pipeline and ColumnTransformer use this feature and define the default style\n- Estimators will overwrite some part of the style using the `sk-estimator` class\n*/\n\n/* Pipeline and ColumnTransformer style (default) */\n\n#sk-container-id-1 div.sk-toggleable {\n  /* Default theme specific background. It is overwritten whether we have a\n  specific estimator or a Pipeline/ColumnTransformer */\n  background-color: var(--sklearn-color-background);\n}\n\n/* Toggleable label */\n#sk-container-id-1 label.sk-toggleable__label {\n  cursor: pointer;\n  display: block;\n  width: 100%;\n  margin-bottom: 0;\n  padding: 0.5em;\n  box-sizing: border-box;\n  text-align: center;\n}\n\n#sk-container-id-1 label.sk-toggleable__label-arrow:before {\n  /* Arrow on the left of the label */\n  content: \"▸\";\n  float: left;\n  margin-right: 0.25em;\n  color: var(--sklearn-color-icon);\n}\n\n#sk-container-id-1 label.sk-toggleable__label-arrow:hover:before {\n  color: var(--sklearn-color-text);\n}\n\n/* Toggleable content - dropdown */\n\n#sk-container-id-1 div.sk-toggleable__content {\n  max-height: 0;\n  max-width: 0;\n  overflow: hidden;\n  text-align: left;\n  /* unfitted */\n  background-color: var(--sklearn-color-unfitted-level-0);\n}\n\n#sk-container-id-1 div.sk-toggleable__content.fitted {\n  /* fitted */\n  background-color: var(--sklearn-color-fitted-level-0);\n}\n\n#sk-container-id-1 div.sk-toggleable__content pre {\n  margin: 0.2em;\n  border-radius: 0.25em;\n  color: var(--sklearn-color-text);\n  /* unfitted */\n  background-color: var(--sklearn-color-unfitted-level-0);\n}\n\n#sk-container-id-1 div.sk-toggleable__content.fitted pre {\n  /* unfitted */\n  background-color: var(--sklearn-color-fitted-level-0);\n}\n\n#sk-container-id-1 input.sk-toggleable__control:checked~div.sk-toggleable__content {\n  /* Expand drop-down */\n  max-height: 200px;\n  max-width: 100%;\n  overflow: auto;\n}\n\n#sk-container-id-1 input.sk-toggleable__control:checked~label.sk-toggleable__label-arrow:before {\n  content: \"▾\";\n}\n\n/* Pipeline/ColumnTransformer-specific style */\n\n#sk-container-id-1 div.sk-label input.sk-toggleable__control:checked~label.sk-toggleable__label {\n  color: var(--sklearn-color-text);\n  background-color: var(--sklearn-color-unfitted-level-2);\n}\n\n#sk-container-id-1 div.sk-label.fitted input.sk-toggleable__control:checked~label.sk-toggleable__label {\n  background-color: var(--sklearn-color-fitted-level-2);\n}\n\n/* Estimator-specific style */\n\n/* Colorize estimator box */\n#sk-container-id-1 div.sk-estimator input.sk-toggleable__control:checked~label.sk-toggleable__label {\n  /* unfitted */\n  background-color: var(--sklearn-color-unfitted-level-2);\n}\n\n#sk-container-id-1 div.sk-estimator.fitted input.sk-toggleable__control:checked~label.sk-toggleable__label {\n  /* fitted */\n  background-color: var(--sklearn-color-fitted-level-2);\n}\n\n#sk-container-id-1 div.sk-label label.sk-toggleable__label,\n#sk-container-id-1 div.sk-label label {\n  /* The background is the default theme color */\n  color: var(--sklearn-color-text-on-default-background);\n}\n\n/* On hover, darken the color of the background */\n#sk-container-id-1 div.sk-label:hover label.sk-toggleable__label {\n  color: var(--sklearn-color-text);\n  background-color: var(--sklearn-color-unfitted-level-2);\n}\n\n/* Label box, darken color on hover, fitted */\n#sk-container-id-1 div.sk-label.fitted:hover label.sk-toggleable__label.fitted {\n  color: var(--sklearn-color-text);\n  background-color: var(--sklearn-color-fitted-level-2);\n}\n\n/* Estimator label */\n\n#sk-container-id-1 div.sk-label label {\n  font-family: monospace;\n  font-weight: bold;\n  display: inline-block;\n  line-height: 1.2em;\n}\n\n#sk-container-id-1 div.sk-label-container {\n  text-align: center;\n}\n\n/* Estimator-specific */\n#sk-container-id-1 div.sk-estimator {\n  font-family: monospace;\n  border: 1px dotted var(--sklearn-color-border-box);\n  border-radius: 0.25em;\n  box-sizing: border-box;\n  margin-bottom: 0.5em;\n  /* unfitted */\n  background-color: var(--sklearn-color-unfitted-level-0);\n}\n\n#sk-container-id-1 div.sk-estimator.fitted {\n  /* fitted */\n  background-color: var(--sklearn-color-fitted-level-0);\n}\n\n/* on hover */\n#sk-container-id-1 div.sk-estimator:hover {\n  /* unfitted */\n  background-color: var(--sklearn-color-unfitted-level-2);\n}\n\n#sk-container-id-1 div.sk-estimator.fitted:hover {\n  /* fitted */\n  background-color: var(--sklearn-color-fitted-level-2);\n}\n\n/* Specification for estimator info (e.g. \"i\" and \"?\") */\n\n/* Common style for \"i\" and \"?\" */\n\n.sk-estimator-doc-link,\na:link.sk-estimator-doc-link,\na:visited.sk-estimator-doc-link {\n  float: right;\n  font-size: smaller;\n  line-height: 1em;\n  font-family: monospace;\n  background-color: var(--sklearn-color-background);\n  border-radius: 1em;\n  height: 1em;\n  width: 1em;\n  text-decoration: none !important;\n  margin-left: 1ex;\n  /* unfitted */\n  border: var(--sklearn-color-unfitted-level-1) 1pt solid;\n  color: var(--sklearn-color-unfitted-level-1);\n}\n\n.sk-estimator-doc-link.fitted,\na:link.sk-estimator-doc-link.fitted,\na:visited.sk-estimator-doc-link.fitted {\n  /* fitted */\n  border: var(--sklearn-color-fitted-level-1) 1pt solid;\n  color: var(--sklearn-color-fitted-level-1);\n}\n\n/* On hover */\ndiv.sk-estimator:hover .sk-estimator-doc-link:hover,\n.sk-estimator-doc-link:hover,\ndiv.sk-label-container:hover .sk-estimator-doc-link:hover,\n.sk-estimator-doc-link:hover {\n  /* unfitted */\n  background-color: var(--sklearn-color-unfitted-level-3);\n  color: var(--sklearn-color-background);\n  text-decoration: none;\n}\n\ndiv.sk-estimator.fitted:hover .sk-estimator-doc-link.fitted:hover,\n.sk-estimator-doc-link.fitted:hover,\ndiv.sk-label-container:hover .sk-estimator-doc-link.fitted:hover,\n.sk-estimator-doc-link.fitted:hover {\n  /* fitted */\n  background-color: var(--sklearn-color-fitted-level-3);\n  color: var(--sklearn-color-background);\n  text-decoration: none;\n}\n\n/* Span, style for the box shown on hovering the info icon */\n.sk-estimator-doc-link span {\n  display: none;\n  z-index: 9999;\n  position: relative;\n  font-weight: normal;\n  right: .2ex;\n  padding: .5ex;\n  margin: .5ex;\n  width: min-content;\n  min-width: 20ex;\n  max-width: 50ex;\n  color: var(--sklearn-color-text);\n  box-shadow: 2pt 2pt 4pt #999;\n  /* unfitted */\n  background: var(--sklearn-color-unfitted-level-0);\n  border: .5pt solid var(--sklearn-color-unfitted-level-3);\n}\n\n.sk-estimator-doc-link.fitted span {\n  /* fitted */\n  background: var(--sklearn-color-fitted-level-0);\n  border: var(--sklearn-color-fitted-level-3);\n}\n\n.sk-estimator-doc-link:hover span {\n  display: block;\n}\n\n/* \"?\"-specific style due to the `<a>` HTML tag */\n\n#sk-container-id-1 a.estimator_doc_link {\n  float: right;\n  font-size: 1rem;\n  line-height: 1em;\n  font-family: monospace;\n  background-color: var(--sklearn-color-background);\n  border-radius: 1rem;\n  height: 1rem;\n  width: 1rem;\n  text-decoration: none;\n  /* unfitted */\n  color: var(--sklearn-color-unfitted-level-1);\n  border: var(--sklearn-color-unfitted-level-1) 1pt solid;\n}\n\n#sk-container-id-1 a.estimator_doc_link.fitted {\n  /* fitted */\n  border: var(--sklearn-color-fitted-level-1) 1pt solid;\n  color: var(--sklearn-color-fitted-level-1);\n}\n\n/* On hover */\n#sk-container-id-1 a.estimator_doc_link:hover {\n  /* unfitted */\n  background-color: var(--sklearn-color-unfitted-level-3);\n  color: var(--sklearn-color-background);\n  text-decoration: none;\n}\n\n#sk-container-id-1 a.estimator_doc_link.fitted:hover {\n  /* fitted */\n  background-color: var(--sklearn-color-fitted-level-3);\n}\n</style><div id=\"sk-container-id-1\" class=\"sk-top-container\"><div class=\"sk-text-repr-fallback\"><pre>KNeighborsRegressor()</pre><b>In a Jupyter environment, please rerun this cell to show the HTML representation or trust the notebook. <br />On GitHub, the HTML representation is unable to render, please try loading this page with nbviewer.org.</b></div><div class=\"sk-container\" hidden><div class=\"sk-item\"><div class=\"sk-estimator fitted sk-toggleable\"><input class=\"sk-toggleable__control sk-hidden--visually\" id=\"sk-estimator-id-1\" type=\"checkbox\" checked><label for=\"sk-estimator-id-1\" class=\"sk-toggleable__label fitted sk-toggleable__label-arrow fitted\">&nbsp;&nbsp;KNeighborsRegressor<a class=\"sk-estimator-doc-link fitted\" rel=\"noreferrer\" target=\"_blank\" href=\"https://scikit-learn.org/1.5/modules/generated/sklearn.neighbors.KNeighborsRegressor.html\">?<span>Documentation for KNeighborsRegressor</span></a><span class=\"sk-estimator-doc-link fitted\">i<span>Fitted</span></span></label><div class=\"sk-toggleable__content fitted\"><pre>KNeighborsRegressor()</pre></div> </div></div></div></div>"
     },
     "execution_count": 11,
     "metadata": {},
     "output_type": "execute_result"
    }
   ]
  },
  {
   "cell_type": "code",
   "metadata": {
    "id": "0F-71xehNKQm",
    "colab": {
     "base_uri": "https://localhost:8080/"
    },
    "outputId": "f000c13b-41d7-4f08-9ef4-614fb276cef5",
    "ExecuteTime": {
     "end_time": "2024-12-05T06:42:29.810540600Z",
     "start_time": "2024-12-05T06:42:29.783535300Z"
    }
   },
   "source": [
    "predictions = knn.predict(X_test)\n",
    "print(predictions)"
   ],
   "execution_count": 12,
   "outputs": [
    {
     "name": "stdout",
     "output_type": "stream",
     "text": [
      "[29.1  14.5  27.96 20.64 20.5  16.78 23.28 20.52 19.16 11.64 20.86 33.26\n",
      " 30.04 20.14 23.08 34.8  21.62 21.6  36.24 20.   20.12 22.32 28.44 17.48\n",
      " 42.92 25.28 25.28 19.64 24.74 28.02 22.62 18.04 19.94 21.94 22.44 22.42\n",
      " 12.2  28.04 29.1  27.42 21.64 38.5  41.58 27.68 23.08 16.74 27.96 31.62\n",
      " 12.56 20.24 29.08 36.16 35.58 14.98 23.76 27.76 19.64 13.42 13.18 27.16\n",
      " 22.7  35.72 27.32 23.24 29.62 25.16 22.98 11.26 15.76 19.4  15.74  8.88\n",
      " 15.16 14.   30.04 38.48 23.8  23.8  25.72 21.6  25.9  11.68 24.5  18.52\n",
      " 25.72 12.18 20.56 21.92 13.66 25.54 30.04 14.18 18.74 28.44 28.72 22.12\n",
      " 22.18 30.34 12.16 29.18 34.42 29.94]\n"
     ]
    }
   ]
  },
  {
   "cell_type": "markdown",
   "metadata": {
    "id": "QEqvxycJYncL"
   },
   "source": [
    "Отлично! Мы получили предсказания. Посчитаем метрику, соответствующая функция есть в scikit-learn! Будет считать средне квадратичную ошибку, так как мы решаем задачу регрессии."
   ]
  },
  {
   "cell_type": "code",
   "execution_count": 13,
   "outputs": [
    {
     "data": {
      "text/plain": "array([26.5, 21. ,  5. , 16.1, 30.1, 11. ,  9.6, 23.9, 22.4, 12.1, 10.8,\n       14.5, 29.8, 20.3, 20.6, 20.4, 15.2, 34.6, 13.1, 22.7,  8.7, 21.2,\n       23.3, 22.2, 50. , 13.1, 23.8,  8.8, 19.6, 28.4, 14.3, 29.9, 18.5,\n       23.1, 10.4, 30.1, 23.7, 16.2, 21.2, 14.4,  5. , 32.9, 46.7, 17.8,\n       19.4, 15.1, 19.6, 25.1, 20.6, 21.4, 18.7, 14.3, 43.1, 20. , 19.9,\n       26.2, 18.2,  6.3,  8.1, 15.6, 13.6,  7. , 21.8, 18.3, 22. , 30.3,\n       32.7, 23.7, 14.9, 19.3, 15.6, 20. , 25. , 23.6, 24.3, 26.6, 33. ,\n       21.2, 19.2, 18.3, 20.1, 50. , 22.3, 12.7, 12.3, 24.3, 13.8, 24.1,\n       32.2, 31. , 31.6, 30.7, 30.1, 20.3, 22.5, 36.5, 20.3, 13.8, 23.1,\n       17.2, 13.8, 11.9, 48.8, 16.5, 10.9, 24.5, 29.1, 19.2, 22.2, 24.8,\n       23.9, 13.4, 13.5, 17.8, 36.4, 33.1, 17.1, 27.1, 11.5, 50. , 17.5,\n       22.8,  8.3, 50. , 50. , 11.8, 19.6, 41.3, 26.6, 27.1, 14.9, 20.6,\n       32.4, 21.6, 16.8, 21.7, 14.1, 20.5, 10.4, 21.7, 27.5, 19.8, 17.1,\n       22.7, 21.5, 16.1, 20.7, 22.6, 18.9, 23.3, 44.8, 22.3, 19.6, 19.8,\n       29.6, 29.8, 18.6, 22.9, 33.1, 14.6, 19.3, 22.2, 15. ,  7.5, 22. ,\n       33.2, 18.2,  5.6, 35.1, 15.6, 17.8, 19.5, 13.3, 29.4, 21.4, 14.8,\n       20.1, 13.1, 19.1, 34.9, 16. , 13.8, 33.4, 13. , 25. , 15.7, 15. ,\n       12.7, 44. , 12.8, 16.5, 32. , 23.6, 12.5,  8.8, 18.5, 20.4,  9.5,\n       23.8, 36.1, 19.6, 19.9, 19.4, 23.9, 26.4, 15.2, 22. , 18.9, 15.6,\n       32.5, 22.6, 13.4, 50. , 24.6, 10.5, 24.1, 20.2, 11.8, 13.9, 28.6,\n       14.2, 18.2, 11.7, 28.2, 20.9, 14.5, 14.6, 16.2, 27. , 39.8, 14.5,\n       50. , 50. , 15.4, 22. , 23.4, 18.5, 33.8, 16.7, 19.1, 16.3, 21.4,\n       35.2, 22. , 42.8, 21. , 12.6, 20.4, 26.4, 34.7, 50. , 17.8, 16.7,\n       28.7, 50. , 23.2, 13.3, 50. , 24.6, 23.2, 34.9, 19.5, 25. , 38.7,\n       20. , 50. , 21.4, 25. , 13.1, 18.6, 19.9, 20.2, 23.3, 20.9, 20.7,\n        8.3, 17.9, 28.4,  7.4, 14.1, 13.2, 23.7, 17.4, 22.8, 22.5, 30.5,\n       18.5, 16.6, 21.7, 23.8, 27.5, 20.3, 15. , 26.6, 28. , 27.9, 31.2,\n       13.6, 13.8, 19.7, 41.7, 33.2, 17.1, 29.1, 10.9, 22.2, 19.7, 30.8,\n       23.8, 19.5, 24.8, 18.8, 22.8, 50. , 23.9, 28.7, 50. , 24. , 27.5,\n       24.5, 19.1, 24.2, 27.5, 21.7, 29. , 20.6, 17.2, 21.9, 24.5, 19.8,\n       31.5, 36. , 23.2, 20. , 21.4, 23. , 17.4, 20.1, 20.1, 19.3, 21.7,\n       22. , 18.1, 19.4, 28.7, 17.6, 12. , 18.7, 10.2, 42.3, 25.2, 25.3,\n       34.9, 19.3, 14.4, 11.9, 21.8, 22.8, 10.2, 18.8, 17.7, 17.5, 23.7,\n       22.6, 28.5, 17.2, 24.7,  7.2, 15.2, 14.1, 35.4, 18.4, 25. , 35.4,\n       43.5, 24.4, 29.6, 22.5, 22. , 23.4, 24.4,  7.2, 20.5, 24. , 18. ,\n       25. , 21.6, 21.2, 43.8, 23.9, 22.6, 19. , 16.4, 37.2, 16.6, 21.1,\n       19.1, 18.4, 20.1,  8.4, 15.6, 15.3, 14. , 24.8])"
     },
     "execution_count": 13,
     "metadata": {},
     "output_type": "execute_result"
    }
   ],
   "source": [
    "y_train"
   ],
   "metadata": {
    "collapsed": false,
    "ExecuteTime": {
     "end_time": "2024-12-05T06:42:29.872536Z",
     "start_time": "2024-12-05T06:42:29.798535400Z"
    }
   }
  },
  {
   "cell_type": "code",
   "metadata": {
    "id": "Ydpg9MH9NOTD",
    "ExecuteTime": {
     "end_time": "2024-12-05T06:42:29.873565900Z",
     "start_time": "2024-12-05T06:42:29.817534700Z"
    }
   },
   "source": [
    "from sklearn.metrics import mean_squared_error"
   ],
   "execution_count": 14,
   "outputs": []
  },
  {
   "cell_type": "code",
   "metadata": {
    "id": "qXOe6qqRNVRr",
    "outputId": "2dc53e9f-6863-4214-c779-cef9c37d5e8d",
    "colab": {
     "base_uri": "https://localhost:8080/"
    },
    "ExecuteTime": {
     "end_time": "2024-12-05T06:42:29.998533800Z",
     "start_time": "2024-12-05T06:42:29.831535800Z"
    }
   },
   "source": [
    "mean_squared_error(y_test, predictions)"
   ],
   "execution_count": 15,
   "outputs": [
    {
     "data": {
      "text/plain": "33.27236862745098"
     },
     "execution_count": 15,
     "metadata": {},
     "output_type": "execute_result"
    }
   ]
  },
  {
   "cell_type": "markdown",
   "metadata": {
    "id": "vyrD9P7gNrpl"
   },
   "source": [
    "Давайте попробуем сделать лучше! У нашего алгоритма есть множество гиперпараметров: количество соседей, параметры метрики и веса. Запустим поиск по сетке гиперараметров, алгоритм переберет все возможные комбинации, посчитает метрику для каждого набора и выдаст лучший набор."
   ]
  },
  {
   "cell_type": "code",
   "metadata": {
    "id": "IFJ33oeANw8Y",
    "ExecuteTime": {
     "end_time": "2024-12-05T06:42:30.005537100Z",
     "start_time": "2024-12-05T06:42:29.847537Z"
    }
   },
   "source": [
    "from sklearn.model_selection import GridSearchCV"
   ],
   "execution_count": 16,
   "outputs": []
  },
  {
   "cell_type": "code",
   "metadata": {
    "id": "BrjPz9oFOIGQ",
    "ExecuteTime": {
     "end_time": "2024-12-05T06:42:30.007562Z",
     "start_time": "2024-12-05T06:42:29.863641500Z"
    }
   },
   "source": [
    "grid_searcher = GridSearchCV(KNeighborsRegressor(),\n",
    "                             param_grid={'n_neighbors': [1,4,5, 6,7, 10, 20],\n",
    "                                         'weights': ['uniform', 'distance'],\n",
    "                                         'p': [1, 2, 3]},\n",
    "                             cv=20)"
   ],
   "execution_count": 17,
   "outputs": []
  },
  {
   "cell_type": "markdown",
   "metadata": {
    "id": "4e9XpFCdeeMe"
   },
   "source": [
    "Параметр cv=5 говорит, что во время поиска оптимальных парамертов будет использоваться кросс-валидация с 5 фолдами. Давайте вспомним, что это такое.\n",
    "В нашем случае, выборка будет разделена на 5 частей и на каждой из 5 итераций, часть данных будет становиться тестовой выборкой, а другая часть - обучающей. Посчитав метрики на каждой итерации, мы сможем усреднить их в конце и получить достаточно точную оценку качества нашего алгоритма."
   ]
  },
  {
   "cell_type": "code",
   "metadata": {
    "id": "ASqSEMsCPBD0",
    "ExecuteTime": {
     "end_time": "2024-12-05T06:42:32.316379800Z",
     "start_time": "2024-12-05T06:42:29.879533800Z"
    }
   },
   "source": [
    "grid_searcher.fit(X_train, y_train);"
   ],
   "execution_count": 18,
   "outputs": []
  },
  {
   "cell_type": "code",
   "source": [
    "grid_searcher.best_params_"
   ],
   "metadata": {
    "colab": {
     "base_uri": "https://localhost:8080/"
    },
    "id": "_G8VMmKTXVvc",
    "outputId": "2aec3dfc-385f-43f7-e319-e11ad48b2ccd",
    "ExecuteTime": {
     "end_time": "2024-12-05T06:42:32.333378400Z",
     "start_time": "2024-12-05T06:42:32.318380400Z"
    }
   },
   "execution_count": 19,
   "outputs": [
    {
     "data": {
      "text/plain": "{'n_neighbors': 6, 'p': 1, 'weights': 'distance'}"
     },
     "execution_count": 19,
     "metadata": {},
     "output_type": "execute_result"
    }
   ]
  },
  {
   "cell_type": "markdown",
   "metadata": {
    "id": "mWdAzpvXayNe"
   },
   "source": [
    "Попросим предсказание лучшей модели."
   ]
  },
  {
   "cell_type": "code",
   "metadata": {
    "id": "fQyWWnrSONPo",
    "ExecuteTime": {
     "end_time": "2024-12-05T07:00:00.091196Z",
     "start_time": "2024-12-05T07:00:00.056674500Z"
    }
   },
   "source": [
    "best_predictions = grid_searcher.predict(X_test)\n",
    "best_predictions"
   ],
   "execution_count": 26,
   "outputs": [
    {
     "data": {
      "text/plain": "array([31.39457463, 14.46116897, 28.10182967, 20.76485316, 19.59988917,\n       16.9934705 , 23.89952716, 19.16450897, 21.12006785, 11.86035151,\n       20.48846262, 36.15262714, 31.29502654, 20.03159563, 22.38098244,\n       39.07584972, 15.74159893, 22.85897947, 39.5019635 , 23.94214053,\n       20.51793264, 21.25216909, 27.99111354, 19.42867127, 35.9917582 ,\n       26.53550258, 24.40087947, 20.28138615, 19.71075721, 27.47501519,\n       24.92289915, 18.10282571, 19.36849033, 21.51075186, 21.79413942,\n       22.10715752, 11.88907636, 27.34856879, 28.91135475, 26.30691145,\n       22.26682827, 43.15482352, 46.93553874, 27.90068329, 21.17086397,\n       15.39220647, 28.93101225, 31.38539779, 12.66061462, 20.17745724,\n       31.08258848, 36.20693512, 32.92377793, 14.435289  , 24.97955596,\n       34.38079151, 19.77835222, 13.19569174, 12.94799427, 23.1820144 ,\n       24.93183558, 37.08978097, 27.84811849, 23.36244172, 27.32005644,\n       17.96028407, 21.4422667 , 10.94041029, 14.83286266, 18.89093377,\n       15.48026887,  8.12061018, 14.80609897, 15.12649884, 32.84345527,\n       36.64494138, 24.88774313, 21.89043969, 26.31376373, 21.67178587,\n       24.45851509, 12.0882351 , 30.73792565, 15.02812352, 24.8680002 ,\n       13.03775372, 19.1023964 , 21.83235361, 13.75080497, 24.56817346,\n       29.05998465, 14.37504702, 21.95034622, 27.96886632, 25.41349808,\n       21.14571589, 20.19071933, 28.91140571, 11.02370647, 28.13741303,\n       29.36365131, 34.38614032])"
     },
     "execution_count": 26,
     "metadata": {},
     "output_type": "execute_result"
    }
   ]
  },
  {
   "cell_type": "markdown",
   "source": [
    "И  посчитаем метрику"
   ],
   "metadata": {
    "id": "SjDC03ZgXq9b"
   }
  },
  {
   "cell_type": "code",
   "metadata": {
    "id": "nDV8_O3zPbN-",
    "outputId": "1567192f-59b8-418d-b950-e76fb5920f8c",
    "colab": {
     "base_uri": "https://localhost:8080/"
    },
    "ExecuteTime": {
     "end_time": "2024-12-05T06:42:32.465487300Z",
     "start_time": "2024-12-05T06:42:32.351482Z"
    }
   },
   "source": [
    "mean_squared_error(y_test, best_predictions)"
   ],
   "execution_count": 21,
   "outputs": [
    {
     "data": {
      "text/plain": "23.305046647336965"
     },
     "execution_count": 21,
     "metadata": {},
     "output_type": "execute_result"
    }
   ]
  },
  {
   "cell_type": "markdown",
   "metadata": {
    "id": "Pnvwj0dBbFEm"
   },
   "source": [
    "Давайте посмотрим на качество алгоритма в зависимости от количества соседей. Качество будем оценивать на обучающей выборке\n"
   ]
  },
  {
   "cell_type": "code",
   "metadata": {
    "id": "s0cl2zDgcJiM",
    "ExecuteTime": {
     "end_time": "2024-12-05T06:42:32.466486700Z",
     "start_time": "2024-12-05T06:42:32.368484900Z"
    }
   },
   "source": [
    "from sklearn.model_selection import cross_val_score\n",
    "import numpy as np"
   ],
   "execution_count": 22,
   "outputs": []
  },
  {
   "cell_type": "code",
   "metadata": {
    "id": "d3mbvV2VOOxF",
    "ExecuteTime": {
     "end_time": "2024-12-05T06:42:32.772484100Z",
     "start_time": "2024-12-05T06:42:32.387484500Z"
    }
   },
   "source": [
    "metrics = []\n",
    "for n in range(1, 40, 2):\n",
    "  knn = KNeighborsRegressor(n_neighbors=n)\n",
    "  scores = cross_val_score(knn, X_train, y_train, cv=5, scoring='neg_mean_squared_error')\n",
    "  metrics.append(np.mean(scores))"
   ],
   "execution_count": 23,
   "outputs": []
  },
  {
   "cell_type": "code",
   "metadata": {
    "id": "0-TiIAiPcrhw",
    "ExecuteTime": {
     "end_time": "2024-12-05T06:42:32.787484600Z",
     "start_time": "2024-12-05T06:42:32.773484500Z"
    }
   },
   "source": [
    "from matplotlib import pyplot as plt"
   ],
   "execution_count": 24,
   "outputs": []
  },
  {
   "cell_type": "code",
   "metadata": {
    "id": "8_k7CZsPcvHa",
    "outputId": "7a51f6bf-8fb0-4c12-f0f2-02ef31fdd9c6",
    "colab": {
     "base_uri": "https://localhost:8080/",
     "height": 467
    },
    "ExecuteTime": {
     "end_time": "2024-12-05T06:42:33.040483300Z",
     "start_time": "2024-12-05T06:42:32.789484800Z"
    }
   },
   "source": [
    "plt.plot(range(1, 40, 2), metrics)\n",
    "plt.ylabel('Negative mean squared error')\n",
    "plt.xlabel('Number of neightbors')"
   ],
   "execution_count": 25,
   "outputs": [
    {
     "data": {
      "text/plain": "Text(0.5, 0, 'Number of neightbors')"
     },
     "execution_count": 25,
     "metadata": {},
     "output_type": "execute_result"
    },
    {
     "data": {
      "text/plain": "<Figure size 640x480 with 1 Axes>",
      "image/png": "[encoded data removed]"
     },
     "metadata": {},
     "output_type": "display_data"
    }
   ]
  },
  {
   "cell_type": "markdown",
   "source": [
    "Вопросы, ответы на которые следует привести в конце ноутбука:\n",
    "1. Какую задачу вы решали и на каких данных вы ее решали?\n",
    "**Решили задачу регрессии на данных о стоимость жилья в зависимости от уровня приступности в районе**\n",
    "2. Каким методом вы решали эту задачу?\n",
    "**Методом k-ближайших соседей**\n",
    "3. Какую библиотеку и какие алгоритмы вы использовали?\n",
    "**sklearn из неё взяли пакет KNeighborsRegressor, также для улучшения обучения мы использовали кросс валдиацию из той же библиотеки, пакет для кросс валидации использовался - cross_val_score**\n",
    "4. Каким образом вы выбрали значения гиперпараметров?\n",
    "**Мы перебрали множества значений для числа соседей, весов соседей и того как будем определять расстояние между соседями**\n",
    "5. Какие значения гиперпараметров вы использовали для оптимальной модели и что они означают?\n",
    "**Колчество ближайших соседей =5, этот параметр отвечает за то, по скольки самым близким соседям мы будем оценивать нашу точку\n",
    "weights= distance - означает что чем больше расстояние от точки до соседа, тем меньшее влияние он оказывает на прогноз,\n",
    "p=1 означает что мы выбрали Манхэтоновское расстояние между точками, от него зависит как мы будем определять дистанцию между точками**\n",
    "6. Поиграйте размером признакового пространства (добавьте еще признаков или удалите, если изначально их было много). Как это повлияло на метрику качества и выбор оптимальных значений гиперпараметров?\n",
    "**Оптимальное значение параметров соседей по прежнему осталось = 5, при кросс валидации = 5,\n",
    "но если поменять значение cv=7, то оптимальным параметром соседей становится 6 соседей\n",
    "если cv=20, то оптимальное число соседей становится  4**\n",
    "\n",
    "Задание: на других данных посчитать метрику и тд"
   ],
   "metadata": {
    "id": "u_EYRCGcp8xJ"
   }
  },
  {
   "cell_type": "code",
   "execution_count": 61,
   "outputs": [],
   "source": "d_f=pd.read_csv(\"math_students.csv\")",
   "metadata": {
    "collapsed": false,
    "ExecuteTime": {
     "end_time": "2024-12-09T07:18:51.988466400Z",
     "start_time": "2024-12-09T07:18:51.954465500Z"
    }
   }
  },
  {
   "cell_type": "code",
   "execution_count": 62,
   "outputs": [
    {
     "data": {
      "text/plain": "    school sex  age address famsize Pstatus  Medu  Fedu      Mjob      Fjob  \\\n0       GP   F   18       U     GT3       A     4     4   at_home   teacher   \n1       GP   F   17       U     GT3       T     1     1   at_home     other   \n2       GP   F   15       U     LE3       T     1     1   at_home     other   \n3       GP   F   15       U     GT3       T     4     2    health  services   \n4       GP   F   16       U     GT3       T     3     3     other     other   \n..     ...  ..  ...     ...     ...     ...   ...   ...       ...       ...   \n390     MS   M   20       U     LE3       A     2     2  services  services   \n391     MS   M   17       U     LE3       T     3     1  services  services   \n392     MS   M   21       R     GT3       T     1     1     other     other   \n393     MS   M   18       R     LE3       T     3     2  services     other   \n394     MS   M   19       U     LE3       T     1     1     other   at_home   \n\n     ... famrel freetime  goout  Dalc  Walc health absences  G1  G2  G3  \n0    ...      4        3      4     1     1      3        6   5   6   6  \n1    ...      5        3      3     1     1      3        4   5   5   6  \n2    ...      4        3      2     2     3      3       10   7   8  10  \n3    ...      3        2      2     1     1      5        2  15  14  15  \n4    ...      4        3      2     1     2      5        4   6  10  10  \n..   ...    ...      ...    ...   ...   ...    ...      ...  ..  ..  ..  \n390  ...      5        5      4     4     5      4       11   9   9   9  \n391  ...      2        4      5     3     4      2        3  14  16  16  \n392  ...      5        5      3     3     3      3        3  10   8   7  \n393  ...      4        4      1     3     4      5        0  11  12  10  \n394  ...      3        2      3     3     3      5        5   8   9   9  \n\n[395 rows x 33 columns]",
      "text/html": "<div>\n<style scoped>\n    .dataframe tbody tr th:only-of-type {\n        vertical-align: middle;\n    }\n\n    .dataframe tbody tr th {\n        vertical-align: top;\n    }\n\n    .dataframe thead th {\n        text-align: right;\n    }\n</style>\n<table border=\"1\" class=\"dataframe\">\n  <thead>\n    <tr style=\"text-align: right;\">\n      <th></th>\n      <th>school</th>\n      <th>sex</th>\n      <th>age</th>\n      <th>address</th>\n      <th>famsize</th>\n      <th>Pstatus</th>\n      <th>Medu</th>\n      <th>Fedu</th>\n      <th>Mjob</th>\n      <th>Fjob</th>\n      <th>...</th>\n      <th>famrel</th>\n      <th>freetime</th>\n      <th>goout</th>\n      <th>Dalc</th>\n      <th>Walc</th>\n      <th>health</th>\n      <th>absences</th>\n      <th>G1</th>\n      <th>G2</th>\n      <th>G3</th>\n    </tr>\n  </thead>\n  <tbody>\n    <tr>\n      <th>0</th>\n      <td>GP</td>\n      <td>F</td>\n      <td>18</td>\n      <td>U</td>\n      <td>GT3</td>\n      <td>A</td>\n      <td>4</td>\n      <td>4</td>\n      <td>at_home</td>\n      <td>teacher</td>\n      <td>...</td>\n      <td>4</td>\n      <td>3</td>\n      <td>4</td>\n      <td>1</td>\n      <td>1</td>\n      <td>3</td>\n      <td>6</td>\n      <td>5</td>\n      <td>6</td>\n      <td>6</td>\n    </tr>\n    <tr>\n      <th>1</th>\n      <td>GP</td>\n      <td>F</td>\n      <td>17</td>\n      <td>U</td>\n      <td>GT3</td>\n      <td>T</td>\n      <td>1</td>\n      <td>1</td>\n      <td>at_home</td>\n      <td>other</td>\n      <td>...</td>\n      <td>5</td>\n      <td>3</td>\n      <td>3</td>\n      <td>1</td>\n      <td>1</td>\n      <td>3</td>\n      <td>4</td>\n      <td>5</td>\n      <td>5</td>\n      <td>6</td>\n    </tr>\n    <tr>\n      <th>2</th>\n      <td>GP</td>\n      <td>F</td>\n      <td>15</td>\n      <td>U</td>\n      <td>LE3</td>\n      <td>T</td>\n      <td>1</td>\n      <td>1</td>\n      <td>at_home</td>\n      <td>other</td>\n      <td>...</td>\n      <td>4</td>\n      <td>3</td>\n      <td>2</td>\n      <td>2</td>\n      <td>3</td>\n      <td>3</td>\n      <td>10</td>\n      <td>7</td>\n      <td>8</td>\n      <td>10</td>\n    </tr>\n    <tr>\n      <th>3</th>\n      <td>GP</td>\n      <td>F</td>\n      <td>15</td>\n      <td>U</td>\n      <td>GT3</td>\n      <td>T</td>\n      <td>4</td>\n      <td>2</td>\n      <td>health</td>\n      <td>services</td>\n      <td>...</td>\n      <td>3</td>\n      <td>2</td>\n      <td>2</td>\n      <td>1</td>\n      <td>1</td>\n      <td>5</td>\n      <td>2</td>\n      <td>15</td>\n      <td>14</td>\n      <td>15</td>\n    </tr>\n    <tr>\n      <th>4</th>\n      <td>GP</td>\n      <td>F</td>\n      <td>16</td>\n      <td>U</td>\n      <td>GT3</td>\n      <td>T</td>\n      <td>3</td>\n      <td>3</td>\n      <td>other</td>\n      <td>other</td>\n      <td>...</td>\n      <td>4</td>\n      <td>3</td>\n      <td>2</td>\n      <td>1</td>\n      <td>2</td>\n      <td>5</td>\n      <td>4</td>\n      <td>6</td>\n      <td>10</td>\n      <td>10</td>\n    </tr>\n    <tr>\n      <th>...</th>\n      <td>...</td>\n      <td>...</td>\n      <td>...</td>\n      <td>...</td>\n      <td>...</td>\n      <td>...</td>\n      <td>...</td>\n      <td>...</td>\n      <td>...</td>\n      <td>...</td>\n      <td>...</td>\n      <td>...</td>\n      <td>...</td>\n      <td>...</td>\n      <td>...</td>\n      <td>...</td>\n      <td>...</td>\n      <td>...</td>\n      <td>...</td>\n      <td>...</td>\n      <td>...</td>\n    </tr>\n    <tr>\n      <th>390</th>\n      <td>MS</td>\n      <td>M</td>\n      <td>20</td>\n      <td>U</td>\n      <td>LE3</td>\n      <td>A</td>\n      <td>2</td>\n      <td>2</td>\n      <td>services</td>\n      <td>services</td>\n      <td>...</td>\n      <td>5</td>\n      <td>5</td>\n      <td>4</td>\n      <td>4</td>\n      <td>5</td>\n      <td>4</td>\n      <td>11</td>\n      <td>9</td>\n      <td>9</td>\n      <td>9</td>\n    </tr>\n    <tr>\n      <th>391</th>\n      <td>MS</td>\n      <td>M</td>\n      <td>17</td>\n      <td>U</td>\n      <td>LE3</td>\n      <td>T</td>\n      <td>3</td>\n      <td>1</td>\n      <td>services</td>\n      <td>services</td>\n      <td>...</td>\n      <td>2</td>\n      <td>4</td>\n      <td>5</td>\n      <td>3</td>\n      <td>4</td>\n      <td>2</td>\n      <td>3</td>\n      <td>14</td>\n      <td>16</td>\n      <td>16</td>\n    </tr>\n    <tr>\n      <th>392</th>\n      <td>MS</td>\n      <td>M</td>\n      <td>21</td>\n      <td>R</td>\n      <td>GT3</td>\n      <td>T</td>\n      <td>1</td>\n      <td>1</td>\n      <td>other</td>\n      <td>other</td>\n      <td>...</td>\n      <td>5</td>\n      <td>5</td>\n      <td>3</td>\n      <td>3</td>\n      <td>3</td>\n      <td>3</td>\n      <td>3</td>\n      <td>10</td>\n      <td>8</td>\n      <td>7</td>\n    </tr>\n    <tr>\n      <th>393</th>\n      <td>MS</td>\n      <td>M</td>\n      <td>18</td>\n      <td>R</td>\n      <td>LE3</td>\n      <td>T</td>\n      <td>3</td>\n      <td>2</td>\n      <td>services</td>\n      <td>other</td>\n      <td>...</td>\n      <td>4</td>\n      <td>4</td>\n      <td>1</td>\n      <td>3</td>\n      <td>4</td>\n      <td>5</td>\n      <td>0</td>\n      <td>11</td>\n      <td>12</td>\n      <td>10</td>\n    </tr>\n    <tr>\n      <th>394</th>\n      <td>MS</td>\n      <td>M</td>\n      <td>19</td>\n      <td>U</td>\n      <td>LE3</td>\n      <td>T</td>\n      <td>1</td>\n      <td>1</td>\n      <td>other</td>\n      <td>at_home</td>\n      <td>...</td>\n      <td>3</td>\n      <td>2</td>\n      <td>3</td>\n      <td>3</td>\n      <td>3</td>\n      <td>5</td>\n      <td>5</td>\n      <td>8</td>\n      <td>9</td>\n      <td>9</td>\n    </tr>\n  </tbody>\n</table>\n<p>395 rows × 33 columns</p>\n</div>"
     },
     "execution_count": 62,
     "metadata": {},
     "output_type": "execute_result"
    }
   ],
   "source": [
    "d_f"
   ],
   "metadata": {
    "collapsed": false,
    "ExecuteTime": {
     "end_time": "2024-12-09T07:18:53.130185Z",
     "start_time": "2024-12-09T07:18:53.084129500Z"
    }
   }
  },
  {
   "cell_type": "code",
   "execution_count": 32,
   "outputs": [
    {
     "data": {
      "text/plain": "33"
     },
     "execution_count": 32,
     "metadata": {},
     "output_type": "execute_result"
    }
   ],
   "source": [
    "len(d_f.columns)"
   ],
   "metadata": {
    "collapsed": false,
    "ExecuteTime": {
     "end_time": "2024-12-05T07:13:37.545650300Z",
     "start_time": "2024-12-05T07:13:37.511650200Z"
    }
   }
  },
  {
   "cell_type": "code",
   "execution_count": 64,
   "outputs": [
    {
     "data": {
      "text/plain": "Index(['school', 'sex', 'address', 'famsize', 'Pstatus', 'Mjob', 'Fjob',\n       'reason', 'guardian', 'schoolsup', 'famsup', 'paid', 'activities',\n       'nursery', 'higher', 'internet', 'romantic'],\n      dtype='object')"
     },
     "execution_count": 64,
     "metadata": {},
     "output_type": "execute_result"
    }
   ],
   "source": [
    "categorical_columns = d_f.select_dtypes(include=['object']).columns\n",
    "numeric_columns = d_f.select_dtypes(include=['int64', 'float64']).columns\n",
    "categorical_columns"
   ],
   "metadata": {
    "collapsed": false,
    "ExecuteTime": {
     "end_time": "2024-12-09T07:20:36.114615900Z",
     "start_time": "2024-12-09T07:20:36.081619500Z"
    }
   }
  },
  {
   "cell_type": "code",
   "execution_count": 65,
   "outputs": [],
   "source": [
    "from sklearn.preprocessing import LabelEncoder\n",
    "\n",
    "le=LabelEncoder()"
   ],
   "metadata": {
    "collapsed": false,
    "ExecuteTime": {
     "end_time": "2024-12-09T07:21:29.891945800Z",
     "start_time": "2024-12-09T07:21:29.875946700Z"
    }
   }
  },
  {
   "cell_type": "code",
   "execution_count": 66,
   "outputs": [],
   "source": [
    "for col in categorical_columns:\n",
    "    d_f[col] = le.fit_transform(d_f[col])\n"
   ],
   "metadata": {
    "collapsed": false,
    "ExecuteTime": {
     "end_time": "2024-12-09T07:21:44.969566500Z",
     "start_time": "2024-12-09T07:21:44.928415900Z"
    }
   }
  },
  {
   "cell_type": "code",
   "execution_count": 67,
   "outputs": [
    {
     "data": {
      "text/plain": "     school  sex  age  address  famsize  Pstatus  Medu  Fedu  Mjob  Fjob  ...  \\\n0         0    0   18        1        0        0     4     4     0     4  ...   \n1         0    0   17        1        0        1     1     1     0     2  ...   \n2         0    0   15        1        1        1     1     1     0     2  ...   \n3         0    0   15        1        0        1     4     2     1     3  ...   \n4         0    0   16        1        0        1     3     3     2     2  ...   \n..      ...  ...  ...      ...      ...      ...   ...   ...   ...   ...  ...   \n390       1    1   20        1        1        0     2     2     3     3  ...   \n391       1    1   17        1        1        1     3     1     3     3  ...   \n392       1    1   21        0        0        1     1     1     2     2  ...   \n393       1    1   18        0        1        1     3     2     3     2  ...   \n394       1    1   19        1        1        1     1     1     2     0  ...   \n\n     famrel  freetime  goout  Dalc  Walc  health  absences  G1  G2  G3  \n0         4         3      4     1     1       3         6   5   6   6  \n1         5         3      3     1     1       3         4   5   5   6  \n2         4         3      2     2     3       3        10   7   8  10  \n3         3         2      2     1     1       5         2  15  14  15  \n4         4         3      2     1     2       5         4   6  10  10  \n..      ...       ...    ...   ...   ...     ...       ...  ..  ..  ..  \n390       5         5      4     4     5       4        11   9   9   9  \n391       2         4      5     3     4       2         3  14  16  16  \n392       5         5      3     3     3       3         3  10   8   7  \n393       4         4      1     3     4       5         0  11  12  10  \n394       3         2      3     3     3       5         5   8   9   9  \n\n[395 rows x 33 columns]",
      "text/html": "<div>\n<style scoped>\n    .dataframe tbody tr th:only-of-type {\n        vertical-align: middle;\n    }\n\n    .dataframe tbody tr th {\n        vertical-align: top;\n    }\n\n    .dataframe thead th {\n        text-align: right;\n    }\n</style>\n<table border=\"1\" class=\"dataframe\">\n  <thead>\n    <tr style=\"text-align: right;\">\n      <th></th>\n      <th>school</th>\n      <th>sex</th>\n      <th>age</th>\n      <th>address</th>\n      <th>famsize</th>\n      <th>Pstatus</th>\n      <th>Medu</th>\n      <th>Fedu</th>\n      <th>Mjob</th>\n      <th>Fjob</th>\n      <th>...</th>\n      <th>famrel</th>\n      <th>freetime</th>\n      <th>goout</th>\n      <th>Dalc</th>\n      <th>Walc</th>\n      <th>health</th>\n      <th>absences</th>\n      <th>G1</th>\n      <th>G2</th>\n      <th>G3</th>\n    </tr>\n  </thead>\n  <tbody>\n    <tr>\n      <th>0</th>\n      <td>0</td>\n      <td>0</td>\n      <td>18</td>\n      <td>1</td>\n      <td>0</td>\n      <td>0</td>\n      <td>4</td>\n      <td>4</td>\n      <td>0</td>\n      <td>4</td>\n      <td>...</td>\n      <td>4</td>\n      <td>3</td>\n      <td>4</td>\n      <td>1</td>\n      <td>1</td>\n      <td>3</td>\n      <td>6</td>\n      <td>5</td>\n      <td>6</td>\n      <td>6</td>\n    </tr>\n    <tr>\n      <th>1</th>\n      <td>0</td>\n      <td>0</td>\n      <td>17</td>\n      <td>1</td>\n      <td>0</td>\n      <td>1</td>\n      <td>1</td>\n      <td>1</td>\n      <td>0</td>\n      <td>2</td>\n      <td>...</td>\n      <td>5</td>\n      <td>3</td>\n      <td>3</td>\n      <td>1</td>\n      <td>1</td>\n      <td>3</td>\n      <td>4</td>\n      <td>5</td>\n      <td>5</td>\n      <td>6</td>\n    </tr>\n    <tr>\n      <th>2</th>\n      <td>0</td>\n      <td>0</td>\n      <td>15</td>\n      <td>1</td>\n      <td>1</td>\n      <td>1</td>\n      <td>1</td>\n      <td>1</td>\n      <td>0</td>\n      <td>2</td>\n      <td>...</td>\n      <td>4</td>\n      <td>3</td>\n      <td>2</td>\n      <td>2</td>\n      <td>3</td>\n      <td>3</td>\n      <td>10</td>\n      <td>7</td>\n      <td>8</td>\n      <td>10</td>\n    </tr>\n    <tr>\n      <th>3</th>\n      <td>0</td>\n      <td>0</td>\n      <td>15</td>\n      <td>1</td>\n      <td>0</td>\n      <td>1</td>\n      <td>4</td>\n      <td>2</td>\n      <td>1</td>\n      <td>3</td>\n      <td>...</td>\n      <td>3</td>\n      <td>2</td>\n      <td>2</td>\n      <td>1</td>\n      <td>1</td>\n      <td>5</td>\n      <td>2</td>\n      <td>15</td>\n      <td>14</td>\n      <td>15</td>\n    </tr>\n    <tr>\n      <th>4</th>\n      <td>0</td>\n      <td>0</td>\n      <td>16</td>\n      <td>1</td>\n      <td>0</td>\n      <td>1</td>\n      <td>3</td>\n      <td>3</td>\n      <td>2</td>\n      <td>2</td>\n      <td>...</td>\n      <td>4</td>\n      <td>3</td>\n      <td>2</td>\n      <td>1</td>\n      <td>2</td>\n      <td>5</td>\n      <td>4</td>\n      <td>6</td>\n      <td>10</td>\n      <td>10</td>\n    </tr>\n    <tr>\n      <th>...</th>\n      <td>...</td>\n      <td>...</td>\n      <td>...</td>\n      <td>...</td>\n      <td>...</td>\n      <td>...</td>\n      <td>...</td>\n      <td>...</td>\n      <td>...</td>\n      <td>...</td>\n      <td>...</td>\n      <td>...</td>\n      <td>...</td>\n      <td>...</td>\n      <td>...</td>\n      <td>...</td>\n      <td>...</td>\n      <td>...</td>\n      <td>...</td>\n      <td>...</td>\n      <td>...</td>\n    </tr>\n    <tr>\n      <th>390</th>\n      <td>1</td>\n      <td>1</td>\n      <td>20</td>\n      <td>1</td>\n      <td>1</td>\n      <td>0</td>\n      <td>2</td>\n      <td>2</td>\n      <td>3</td>\n      <td>3</td>\n      <td>...</td>\n      <td>5</td>\n      <td>5</td>\n      <td>4</td>\n      <td>4</td>\n      <td>5</td>\n      <td>4</td>\n      <td>11</td>\n      <td>9</td>\n      <td>9</td>\n      <td>9</td>\n    </tr>\n    <tr>\n      <th>391</th>\n      <td>1</td>\n      <td>1</td>\n      <td>17</td>\n      <td>1</td>\n      <td>1</td>\n      <td>1</td>\n      <td>3</td>\n      <td>1</td>\n      <td>3</td>\n      <td>3</td>\n      <td>...</td>\n      <td>2</td>\n      <td>4</td>\n      <td>5</td>\n      <td>3</td>\n      <td>4</td>\n      <td>2</td>\n      <td>3</td>\n      <td>14</td>\n      <td>16</td>\n      <td>16</td>\n    </tr>\n    <tr>\n      <th>392</th>\n      <td>1</td>\n      <td>1</td>\n      <td>21</td>\n      <td>0</td>\n      <td>0</td>\n      <td>1</td>\n      <td>1</td>\n      <td>1</td>\n      <td>2</td>\n      <td>2</td>\n      <td>...</td>\n      <td>5</td>\n      <td>5</td>\n      <td>3</td>\n      <td>3</td>\n      <td>3</td>\n      <td>3</td>\n      <td>3</td>\n      <td>10</td>\n      <td>8</td>\n      <td>7</td>\n    </tr>\n    <tr>\n      <th>393</th>\n      <td>1</td>\n      <td>1</td>\n      <td>18</td>\n      <td>0</td>\n      <td>1</td>\n      <td>1</td>\n      <td>3</td>\n      <td>2</td>\n      <td>3</td>\n      <td>2</td>\n      <td>...</td>\n      <td>4</td>\n      <td>4</td>\n      <td>1</td>\n      <td>3</td>\n      <td>4</td>\n      <td>5</td>\n      <td>0</td>\n      <td>11</td>\n      <td>12</td>\n      <td>10</td>\n    </tr>\n    <tr>\n      <th>394</th>\n      <td>1</td>\n      <td>1</td>\n      <td>19</td>\n      <td>1</td>\n      <td>1</td>\n      <td>1</td>\n      <td>1</td>\n      <td>1</td>\n      <td>2</td>\n      <td>0</td>\n      <td>...</td>\n      <td>3</td>\n      <td>2</td>\n      <td>3</td>\n      <td>3</td>\n      <td>3</td>\n      <td>5</td>\n      <td>5</td>\n      <td>8</td>\n      <td>9</td>\n      <td>9</td>\n    </tr>\n  </tbody>\n</table>\n<p>395 rows × 33 columns</p>\n</div>"
     },
     "execution_count": 67,
     "metadata": {},
     "output_type": "execute_result"
    }
   ],
   "source": [
    "d_f"
   ],
   "metadata": {
    "collapsed": false,
    "ExecuteTime": {
     "end_time": "2024-12-09T07:21:52.129707100Z",
     "start_time": "2024-12-09T07:21:52.096708400Z"
    }
   }
  },
  {
   "cell_type": "code",
   "execution_count": 68,
   "outputs": [],
   "source": [
    "X=d_f.drop(\"G3\",axis=1)"
   ],
   "metadata": {
    "collapsed": false,
    "ExecuteTime": {
     "end_time": "2024-12-09T07:22:04.383996700Z",
     "start_time": "2024-12-09T07:22:04.360919800Z"
    }
   }
  },
  {
   "cell_type": "code",
   "execution_count": 69,
   "outputs": [
    {
     "data": {
      "text/plain": "     school  sex  age  address  famsize  Pstatus  Medu  Fedu  Mjob  Fjob  ...  \\\n0         0    0   18        1        0        0     4     4     0     4  ...   \n1         0    0   17        1        0        1     1     1     0     2  ...   \n2         0    0   15        1        1        1     1     1     0     2  ...   \n3         0    0   15        1        0        1     4     2     1     3  ...   \n4         0    0   16        1        0        1     3     3     2     2  ...   \n..      ...  ...  ...      ...      ...      ...   ...   ...   ...   ...  ...   \n390       1    1   20        1        1        0     2     2     3     3  ...   \n391       1    1   17        1        1        1     3     1     3     3  ...   \n392       1    1   21        0        0        1     1     1     2     2  ...   \n393       1    1   18        0        1        1     3     2     3     2  ...   \n394       1    1   19        1        1        1     1     1     2     0  ...   \n\n     romantic  famrel  freetime  goout  Dalc  Walc  health  absences  G1  G2  \n0           0       4         3      4     1     1       3         6   5   6  \n1           0       5         3      3     1     1       3         4   5   5  \n2           0       4         3      2     2     3       3        10   7   8  \n3           1       3         2      2     1     1       5         2  15  14  \n4           0       4         3      2     1     2       5         4   6  10  \n..        ...     ...       ...    ...   ...   ...     ...       ...  ..  ..  \n390         0       5         5      4     4     5       4        11   9   9  \n391         0       2         4      5     3     4       2         3  14  16  \n392         0       5         5      3     3     3       3         3  10   8  \n393         0       4         4      1     3     4       5         0  11  12  \n394         0       3         2      3     3     3       5         5   8   9  \n\n[395 rows x 32 columns]",
      "text/html": "<div>\n<style scoped>\n    .dataframe tbody tr th:only-of-type {\n        vertical-align: middle;\n    }\n\n    .dataframe tbody tr th {\n        vertical-align: top;\n    }\n\n    .dataframe thead th {\n        text-align: right;\n    }\n</style>\n<table border=\"1\" class=\"dataframe\">\n  <thead>\n    <tr style=\"text-align: right;\">\n      <th></th>\n      <th>school</th>\n      <th>sex</th>\n      <th>age</th>\n      <th>address</th>\n      <th>famsize</th>\n      <th>Pstatus</th>\n      <th>Medu</th>\n      <th>Fedu</th>\n      <th>Mjob</th>\n      <th>Fjob</th>\n      <th>...</th>\n      <th>romantic</th>\n      <th>famrel</th>\n      <th>freetime</th>\n      <th>goout</th>\n      <th>Dalc</th>\n      <th>Walc</th>\n      <th>health</th>\n      <th>absences</th>\n      <th>G1</th>\n      <th>G2</th>\n    </tr>\n  </thead>\n  <tbody>\n    <tr>\n      <th>0</th>\n      <td>0</td>\n      <td>0</td>\n      <td>18</td>\n      <td>1</td>\n      <td>0</td>\n      <td>0</td>\n      <td>4</td>\n      <td>4</td>\n      <td>0</td>\n      <td>4</td>\n      <td>...</td>\n      <td>0</td>\n      <td>4</td>\n      <td>3</td>\n      <td>4</td>\n      <td>1</td>\n      <td>1</td>\n      <td>3</td>\n      <td>6</td>\n      <td>5</td>\n      <td>6</td>\n    </tr>\n    <tr>\n      <th>1</th>\n      <td>0</td>\n      <td>0</td>\n      <td>17</td>\n      <td>1</td>\n      <td>0</td>\n      <td>1</td>\n      <td>1</td>\n      <td>1</td>\n      <td>0</td>\n      <td>2</td>\n      <td>...</td>\n      <td>0</td>\n      <td>5</td>\n      <td>3</td>\n      <td>3</td>\n      <td>1</td>\n      <td>1</td>\n      <td>3</td>\n      <td>4</td>\n      <td>5</td>\n      <td>5</td>\n    </tr>\n    <tr>\n      <th>2</th>\n      <td>0</td>\n      <td>0</td>\n      <td>15</td>\n      <td>1</td>\n      <td>1</td>\n      <td>1</td>\n      <td>1</td>\n      <td>1</td>\n      <td>0</td>\n      <td>2</td>\n      <td>...</td>\n      <td>0</td>\n      <td>4</td>\n      <td>3</td>\n      <td>2</td>\n      <td>2</td>\n      <td>3</td>\n      <td>3</td>\n      <td>10</td>\n      <td>7</td>\n      <td>8</td>\n    </tr>\n    <tr>\n      <th>3</th>\n      <td>0</td>\n      <td>0</td>\n      <td>15</td>\n      <td>1</td>\n      <td>0</td>\n      <td>1</td>\n      <td>4</td>\n      <td>2</td>\n      <td>1</td>\n      <td>3</td>\n      <td>...</td>\n      <td>1</td>\n      <td>3</td>\n      <td>2</td>\n      <td>2</td>\n      <td>1</td>\n      <td>1</td>\n      <td>5</td>\n      <td>2</td>\n      <td>15</td>\n      <td>14</td>\n    </tr>\n    <tr>\n      <th>4</th>\n      <td>0</td>\n      <td>0</td>\n      <td>16</td>\n      <td>1</td>\n      <td>0</td>\n      <td>1</td>\n      <td>3</td>\n      <td>3</td>\n      <td>2</td>\n      <td>2</td>\n      <td>...</td>\n      <td>0</td>\n      <td>4</td>\n      <td>3</td>\n      <td>2</td>\n      <td>1</td>\n      <td>2</td>\n      <td>5</td>\n      <td>4</td>\n      <td>6</td>\n      <td>10</td>\n    </tr>\n    <tr>\n      <th>...</th>\n      <td>...</td>\n      <td>...</td>\n      <td>...</td>\n      <td>...</td>\n      <td>...</td>\n      <td>...</td>\n      <td>...</td>\n      <td>...</td>\n      <td>...</td>\n      <td>...</td>\n      <td>...</td>\n      <td>...</td>\n      <td>...</td>\n      <td>...</td>\n      <td>...</td>\n      <td>...</td>\n      <td>...</td>\n      <td>...</td>\n      <td>...</td>\n      <td>...</td>\n      <td>...</td>\n    </tr>\n    <tr>\n      <th>390</th>\n      <td>1</td>\n      <td>1</td>\n      <td>20</td>\n      <td>1</td>\n      <td>1</td>\n      <td>0</td>\n      <td>2</td>\n      <td>2</td>\n      <td>3</td>\n      <td>3</td>\n      <td>...</td>\n      <td>0</td>\n      <td>5</td>\n      <td>5</td>\n      <td>4</td>\n      <td>4</td>\n      <td>5</td>\n      <td>4</td>\n      <td>11</td>\n      <td>9</td>\n      <td>9</td>\n    </tr>\n    <tr>\n      <th>391</th>\n      <td>1</td>\n      <td>1</td>\n      <td>17</td>\n      <td>1</td>\n      <td>1</td>\n      <td>1</td>\n      <td>3</td>\n      <td>1</td>\n      <td>3</td>\n      <td>3</td>\n      <td>...</td>\n      <td>0</td>\n      <td>2</td>\n      <td>4</td>\n      <td>5</td>\n      <td>3</td>\n      <td>4</td>\n      <td>2</td>\n      <td>3</td>\n      <td>14</td>\n      <td>16</td>\n    </tr>\n    <tr>\n      <th>392</th>\n      <td>1</td>\n      <td>1</td>\n      <td>21</td>\n      <td>0</td>\n      <td>0</td>\n      <td>1</td>\n      <td>1</td>\n      <td>1</td>\n      <td>2</td>\n      <td>2</td>\n      <td>...</td>\n      <td>0</td>\n      <td>5</td>\n      <td>5</td>\n      <td>3</td>\n      <td>3</td>\n      <td>3</td>\n      <td>3</td>\n      <td>3</td>\n      <td>10</td>\n      <td>8</td>\n    </tr>\n    <tr>\n      <th>393</th>\n      <td>1</td>\n      <td>1</td>\n      <td>18</td>\n      <td>0</td>\n      <td>1</td>\n      <td>1</td>\n      <td>3</td>\n      <td>2</td>\n      <td>3</td>\n      <td>2</td>\n      <td>...</td>\n      <td>0</td>\n      <td>4</td>\n      <td>4</td>\n      <td>1</td>\n      <td>3</td>\n      <td>4</td>\n      <td>5</td>\n      <td>0</td>\n      <td>11</td>\n      <td>12</td>\n    </tr>\n    <tr>\n      <th>394</th>\n      <td>1</td>\n      <td>1</td>\n      <td>19</td>\n      <td>1</td>\n      <td>1</td>\n      <td>1</td>\n      <td>1</td>\n      <td>1</td>\n      <td>2</td>\n      <td>0</td>\n      <td>...</td>\n      <td>0</td>\n      <td>3</td>\n      <td>2</td>\n      <td>3</td>\n      <td>3</td>\n      <td>3</td>\n      <td>5</td>\n      <td>5</td>\n      <td>8</td>\n      <td>9</td>\n    </tr>\n  </tbody>\n</table>\n<p>395 rows × 32 columns</p>\n</div>"
     },
     "execution_count": 69,
     "metadata": {},
     "output_type": "execute_result"
    }
   ],
   "source": [
    "X"
   ],
   "metadata": {
    "collapsed": false,
    "ExecuteTime": {
     "end_time": "2024-12-09T07:22:05.385051600Z",
     "start_time": "2024-12-09T07:22:05.351051500Z"
    }
   }
  },
  {
   "cell_type": "code",
   "execution_count": 70,
   "outputs": [],
   "source": [
    "y=d_f[\"G3\"]"
   ],
   "metadata": {
    "collapsed": false,
    "ExecuteTime": {
     "end_time": "2024-12-09T07:22:07.016933Z",
     "start_time": "2024-12-09T07:22:06.996930400Z"
    }
   }
  },
  {
   "cell_type": "code",
   "execution_count": 71,
   "outputs": [
    {
     "data": {
      "text/plain": "0       6\n1       6\n2      10\n3      15\n4      10\n       ..\n390     9\n391    16\n392     7\n393    10\n394     9\nName: G3, Length: 395, dtype: int64"
     },
     "execution_count": 71,
     "metadata": {},
     "output_type": "execute_result"
    }
   ],
   "source": [
    "y"
   ],
   "metadata": {
    "collapsed": false,
    "ExecuteTime": {
     "end_time": "2024-12-09T07:22:07.480273Z",
     "start_time": "2024-12-09T07:22:07.446989Z"
    }
   }
  },
  {
   "cell_type": "code",
   "execution_count": 72,
   "outputs": [],
   "source": [
    "from sklearn.model_selection import train_test_split\n",
    "X_train, X_test, y_train, y_test = train_test_split(X, y, test_size=0.2)"
   ],
   "metadata": {
    "collapsed": false,
    "ExecuteTime": {
     "end_time": "2024-12-09T07:22:08.458922400Z",
     "start_time": "2024-12-09T07:22:08.418908600Z"
    }
   }
  },
  {
   "cell_type": "code",
   "execution_count": 72,
   "outputs": [],
   "source": [],
   "metadata": {
    "collapsed": false,
    "ExecuteTime": {
     "end_time": "2024-12-09T07:22:10.477521600Z",
     "start_time": "2024-12-09T07:22:10.462504400Z"
    }
   }
  },
  {
   "cell_type": "code",
   "execution_count": 73,
   "outputs": [],
   "source": [
    "from sklearn.neighbors import KNeighborsRegressor\n",
    "from sklearn.metrics import mean_squared_error\n",
    "from sklearn.model_selection import GridSearchCV\n"
   ],
   "metadata": {
    "collapsed": false,
    "ExecuteTime": {
     "end_time": "2024-12-09T07:22:11.755303100Z",
     "start_time": "2024-12-09T07:22:11.738303500Z"
    }
   }
  },
  {
   "cell_type": "code",
   "execution_count": 88,
   "outputs": [],
   "source": [
    "grid_searcher = GridSearchCV(KNeighborsRegressor(),\n",
    "                             param_grid={'n_neighbors': [1,4,5, 6,7,8,9 ,10, 20],\n",
    "                                         'weights': ['uniform', 'distance'],\n",
    "                                         'p': [1, 2, 3]},\n",
    "                             cv=5)\n"
   ],
   "metadata": {
    "collapsed": false,
    "ExecuteTime": {
     "end_time": "2024-12-09T07:28:10.190725100Z",
     "start_time": "2024-12-09T07:28:09.642790100Z"
    }
   }
  },
  {
   "cell_type": "code",
   "execution_count": 90,
   "outputs": [
    {
     "data": {
      "text/plain": "GridSearchCV(cv=5, estimator=KNeighborsRegressor(),\n             param_grid={'n_neighbors': [1, 4, 5, 6, 7, 8, 9, 10, 20],\n                         'p': [1, 2, 3], 'weights': ['uniform', 'distance']})",
      "text/html": "<style>#sk-container-id-4 {\n  /* Definition of color scheme common for light and dark mode */\n  --sklearn-color-text: black;\n  --sklearn-color-line: gray;\n  /* Definition of color scheme for unfitted estimators */\n  --sklearn-color-unfitted-level-0: #fff5e6;\n  --sklearn-color-unfitted-level-1: #f6e4d2;\n  --sklearn-color-unfitted-level-2: #ffe0b3;\n  --sklearn-color-unfitted-level-3: chocolate;\n  /* Definition of color scheme for fitted estimators */\n  --sklearn-color-fitted-level-0: #f0f8ff;\n  --sklearn-color-fitted-level-1: #d4ebff;\n  --sklearn-color-fitted-level-2: #b3dbfd;\n  --sklearn-color-fitted-level-3: cornflowerblue;\n\n  /* Specific color for light theme */\n  --sklearn-color-text-on-default-background: var(--sg-text-color, var(--theme-code-foreground, var(--jp-content-font-color1, black)));\n  --sklearn-color-background: var(--sg-background-color, var(--theme-background, var(--jp-layout-color0, white)));\n  --sklearn-color-border-box: var(--sg-text-color, var(--theme-code-foreground, var(--jp-content-font-color1, black)));\n  --sklearn-color-icon: #696969;\n\n  @media (prefers-color-scheme: dark) {\n    /* Redefinition of color scheme for dark theme */\n    --sklearn-color-text-on-default-background: var(--sg-text-color, var(--theme-code-foreground, var(--jp-content-font-color1, white)));\n    --sklearn-color-background: var(--sg-background-color, var(--theme-background, var(--jp-layout-color0, #111)));\n    --sklearn-color-border-box: var(--sg-text-color, var(--theme-code-foreground, var(--jp-content-font-color1, white)));\n    --sklearn-color-icon: #878787;\n  }\n}\n\n#sk-container-id-4 {\n  color: var(--sklearn-color-text);\n}\n\n#sk-container-id-4 pre {\n  padding: 0;\n}\n\n#sk-container-id-4 input.sk-hidden--visually {\n  border: 0;\n  clip: rect(1px 1px 1px 1px);\n  clip: rect(1px, 1px, 1px, 1px);\n  height: 1px;\n  margin: -1px;\n  overflow: hidden;\n  padding: 0;\n  position: absolute;\n  width: 1px;\n}\n\n#sk-container-id-4 div.sk-dashed-wrapped {\n  border: 1px dashed var(--sklearn-color-line);\n  margin: 0 0.4em 0.5em 0.4em;\n  box-sizing: border-box;\n  padding-bottom: 0.4em;\n  background-color: var(--sklearn-color-background);\n}\n\n#sk-container-id-4 div.sk-container {\n  /* jupyter's `normalize.less` sets `[hidden] { display: none; }`\n     but bootstrap.min.css set `[hidden] { display: none !important; }`\n     so we also need the `!important` here to be able to override the\n     default hidden behavior on the sphinx rendered scikit-learn.org.\n     See: https://github.com/scikit-learn/scikit-learn/issues/21755 */\n  display: inline-block !important;\n  position: relative;\n}\n\n#sk-container-id-4 div.sk-text-repr-fallback {\n  display: none;\n}\n\ndiv.sk-parallel-item,\ndiv.sk-serial,\ndiv.sk-item {\n  /* draw centered vertical line to link estimators */\n  background-image: linear-gradient(var(--sklearn-color-text-on-default-background), var(--sklearn-color-text-on-default-background));\n  background-size: 2px 100%;\n  background-repeat: no-repeat;\n  background-position: center center;\n}\n\n/* Parallel-specific style estimator block */\n\n#sk-container-id-4 div.sk-parallel-item::after {\n  content: \"\";\n  width: 100%;\n  border-bottom: 2px solid var(--sklearn-color-text-on-default-background);\n  flex-grow: 1;\n}\n\n#sk-container-id-4 div.sk-parallel {\n  display: flex;\n  align-items: stretch;\n  justify-content: center;\n  background-color: var(--sklearn-color-background);\n  position: relative;\n}\n\n#sk-container-id-4 div.sk-parallel-item {\n  display: flex;\n  flex-direction: column;\n}\n\n#sk-container-id-4 div.sk-parallel-item:first-child::after {\n  align-self: flex-end;\n  width: 50%;\n}\n\n#sk-container-id-4 div.sk-parallel-item:last-child::after {\n  align-self: flex-start;\n  width: 50%;\n}\n\n#sk-container-id-4 div.sk-parallel-item:only-child::after {\n  width: 0;\n}\n\n/* Serial-specific style estimator block */\n\n#sk-container-id-4 div.sk-serial {\n  display: flex;\n  flex-direction: column;\n  align-items: center;\n  background-color: var(--sklearn-color-background);\n  padding-right: 1em;\n  padding-left: 1em;\n}\n\n\n/* Toggleable style: style used for estimator/Pipeline/ColumnTransformer box that is\nclickable and can be expanded/collapsed.\n- Pipeline and ColumnTransformer use this feature and define the default style\n- Estimators will overwrite some part of the style using the `sk-estimator` class\n*/\n\n/* Pipeline and ColumnTransformer style (default) */\n\n#sk-container-id-4 div.sk-toggleable {\n  /* Default theme specific background. It is overwritten whether we have a\n  specific estimator or a Pipeline/ColumnTransformer */\n  background-color: var(--sklearn-color-background);\n}\n\n/* Toggleable label */\n#sk-container-id-4 label.sk-toggleable__label {\n  cursor: pointer;\n  display: block;\n  width: 100%;\n  margin-bottom: 0;\n  padding: 0.5em;\n  box-sizing: border-box;\n  text-align: center;\n}\n\n#sk-container-id-4 label.sk-toggleable__label-arrow:before {\n  /* Arrow on the left of the label */\n  content: \"▸\";\n  float: left;\n  margin-right: 0.25em;\n  color: var(--sklearn-color-icon);\n}\n\n#sk-container-id-4 label.sk-toggleable__label-arrow:hover:before {\n  color: var(--sklearn-color-text);\n}\n\n/* Toggleable content - dropdown */\n\n#sk-container-id-4 div.sk-toggleable__content {\n  max-height: 0;\n  max-width: 0;\n  overflow: hidden;\n  text-align: left;\n  /* unfitted */\n  background-color: var(--sklearn-color-unfitted-level-0);\n}\n\n#sk-container-id-4 div.sk-toggleable__content.fitted {\n  /* fitted */\n  background-color: var(--sklearn-color-fitted-level-0);\n}\n\n#sk-container-id-4 div.sk-toggleable__content pre {\n  margin: 0.2em;\n  border-radius: 0.25em;\n  color: var(--sklearn-color-text);\n  /* unfitted */\n  background-color: var(--sklearn-color-unfitted-level-0);\n}\n\n#sk-container-id-4 div.sk-toggleable__content.fitted pre {\n  /* unfitted */\n  background-color: var(--sklearn-color-fitted-level-0);\n}\n\n#sk-container-id-4 input.sk-toggleable__control:checked~div.sk-toggleable__content {\n  /* Expand drop-down */\n  max-height: 200px;\n  max-width: 100%;\n  overflow: auto;\n}\n\n#sk-container-id-4 input.sk-toggleable__control:checked~label.sk-toggleable__label-arrow:before {\n  content: \"▾\";\n}\n\n/* Pipeline/ColumnTransformer-specific style */\n\n#sk-container-id-4 div.sk-label input.sk-toggleable__control:checked~label.sk-toggleable__label {\n  color: var(--sklearn-color-text);\n  background-color: var(--sklearn-color-unfitted-level-2);\n}\n\n#sk-container-id-4 div.sk-label.fitted input.sk-toggleable__control:checked~label.sk-toggleable__label {\n  background-color: var(--sklearn-color-fitted-level-2);\n}\n\n/* Estimator-specific style */\n\n/* Colorize estimator box */\n#sk-container-id-4 div.sk-estimator input.sk-toggleable__control:checked~label.sk-toggleable__label {\n  /* unfitted */\n  background-color: var(--sklearn-color-unfitted-level-2);\n}\n\n#sk-container-id-4 div.sk-estimator.fitted input.sk-toggleable__control:checked~label.sk-toggleable__label {\n  /* fitted */\n  background-color: var(--sklearn-color-fitted-level-2);\n}\n\n#sk-container-id-4 div.sk-label label.sk-toggleable__label,\n#sk-container-id-4 div.sk-label label {\n  /* The background is the default theme color */\n  color: var(--sklearn-color-text-on-default-background);\n}\n\n/* On hover, darken the color of the background */\n#sk-container-id-4 div.sk-label:hover label.sk-toggleable__label {\n  color: var(--sklearn-color-text);\n  background-color: var(--sklearn-color-unfitted-level-2);\n}\n\n/* Label box, darken color on hover, fitted */\n#sk-container-id-4 div.sk-label.fitted:hover label.sk-toggleable__label.fitted {\n  color: var(--sklearn-color-text);\n  background-color: var(--sklearn-color-fitted-level-2);\n}\n\n/* Estimator label */\n\n#sk-container-id-4 div.sk-label label {\n  font-family: monospace;\n  font-weight: bold;\n  display: inline-block;\n  line-height: 1.2em;\n}\n\n#sk-container-id-4 div.sk-label-container {\n  text-align: center;\n}\n\n/* Estimator-specific */\n#sk-container-id-4 div.sk-estimator {\n  font-family: monospace;\n  border: 1px dotted var(--sklearn-color-border-box);\n  border-radius: 0.25em;\n  box-sizing: border-box;\n  margin-bottom: 0.5em;\n  /* unfitted */\n  background-color: var(--sklearn-color-unfitted-level-0);\n}\n\n#sk-container-id-4 div.sk-estimator.fitted {\n  /* fitted */\n  background-color: var(--sklearn-color-fitted-level-0);\n}\n\n/* on hover */\n#sk-container-id-4 div.sk-estimator:hover {\n  /* unfitted */\n  background-color: var(--sklearn-color-unfitted-level-2);\n}\n\n#sk-container-id-4 div.sk-estimator.fitted:hover {\n  /* fitted */\n  background-color: var(--sklearn-color-fitted-level-2);\n}\n\n/* Specification for estimator info (e.g. \"i\" and \"?\") */\n\n/* Common style for \"i\" and \"?\" */\n\n.sk-estimator-doc-link,\na:link.sk-estimator-doc-link,\na:visited.sk-estimator-doc-link {\n  float: right;\n  font-size: smaller;\n  line-height: 1em;\n  font-family: monospace;\n  background-color: var(--sklearn-color-background);\n  border-radius: 1em;\n  height: 1em;\n  width: 1em;\n  text-decoration: none !important;\n  margin-left: 1ex;\n  /* unfitted */\n  border: var(--sklearn-color-unfitted-level-1) 1pt solid;\n  color: var(--sklearn-color-unfitted-level-1);\n}\n\n.sk-estimator-doc-link.fitted,\na:link.sk-estimator-doc-link.fitted,\na:visited.sk-estimator-doc-link.fitted {\n  /* fitted */\n  border: var(--sklearn-color-fitted-level-1) 1pt solid;\n  color: var(--sklearn-color-fitted-level-1);\n}\n\n/* On hover */\ndiv.sk-estimator:hover .sk-estimator-doc-link:hover,\n.sk-estimator-doc-link:hover,\ndiv.sk-label-container:hover .sk-estimator-doc-link:hover,\n.sk-estimator-doc-link:hover {\n  /* unfitted */\n  background-color: var(--sklearn-color-unfitted-level-3);\n  color: var(--sklearn-color-background);\n  text-decoration: none;\n}\n\ndiv.sk-estimator.fitted:hover .sk-estimator-doc-link.fitted:hover,\n.sk-estimator-doc-link.fitted:hover,\ndiv.sk-label-container:hover .sk-estimator-doc-link.fitted:hover,\n.sk-estimator-doc-link.fitted:hover {\n  /* fitted */\n  background-color: var(--sklearn-color-fitted-level-3);\n  color: var(--sklearn-color-background);\n  text-decoration: none;\n}\n\n/* Span, style for the box shown on hovering the info icon */\n.sk-estimator-doc-link span {\n  display: none;\n  z-index: 9999;\n  position: relative;\n  font-weight: normal;\n  right: .2ex;\n  padding: .5ex;\n  margin: .5ex;\n  width: min-content;\n  min-width: 20ex;\n  max-width: 50ex;\n  color: var(--sklearn-color-text);\n  box-shadow: 2pt 2pt 4pt #999;\n  /* unfitted */\n  background: var(--sklearn-color-unfitted-level-0);\n  border: .5pt solid var(--sklearn-color-unfitted-level-3);\n}\n\n.sk-estimator-doc-link.fitted span {\n  /* fitted */\n  background: var(--sklearn-color-fitted-level-0);\n  border: var(--sklearn-color-fitted-level-3);\n}\n\n.sk-estimator-doc-link:hover span {\n  display: block;\n}\n\n/* \"?\"-specific style due to the `<a>` HTML tag */\n\n#sk-container-id-4 a.estimator_doc_link {\n  float: right;\n  font-size: 1rem;\n  line-height: 1em;\n  font-family: monospace;\n  background-color: var(--sklearn-color-background);\n  border-radius: 1rem;\n  height: 1rem;\n  width: 1rem;\n  text-decoration: none;\n  /* unfitted */\n  color: var(--sklearn-color-unfitted-level-1);\n  border: var(--sklearn-color-unfitted-level-1) 1pt solid;\n}\n\n#sk-container-id-4 a.estimator_doc_link.fitted {\n  /* fitted */\n  border: var(--sklearn-color-fitted-level-1) 1pt solid;\n  color: var(--sklearn-color-fitted-level-1);\n}\n\n/* On hover */\n#sk-container-id-4 a.estimator_doc_link:hover {\n  /* unfitted */\n  background-color: var(--sklearn-color-unfitted-level-3);\n  color: var(--sklearn-color-background);\n  text-decoration: none;\n}\n\n#sk-container-id-4 a.estimator_doc_link.fitted:hover {\n  /* fitted */\n  background-color: var(--sklearn-color-fitted-level-3);\n}\n</style><div id=\"sk-container-id-4\" class=\"sk-top-container\"><div class=\"sk-text-repr-fallback\"><pre>GridSearchCV(cv=5, estimator=KNeighborsRegressor(),\n             param_grid={&#x27;n_neighbors&#x27;: [1, 4, 5, 6, 7, 8, 9, 10, 20],\n                         &#x27;p&#x27;: [1, 2, 3], &#x27;weights&#x27;: [&#x27;uniform&#x27;, &#x27;distance&#x27;]})</pre><b>In a Jupyter environment, please rerun this cell to show the HTML representation or trust the notebook. <br />On GitHub, the HTML representation is unable to render, please try loading this page with nbviewer.org.</b></div><div class=\"sk-container\" hidden><div class=\"sk-item sk-dashed-wrapped\"><div class=\"sk-label-container\"><div class=\"sk-label fitted sk-toggleable\"><input class=\"sk-toggleable__control sk-hidden--visually\" id=\"sk-estimator-id-8\" type=\"checkbox\" ><label for=\"sk-estimator-id-8\" class=\"sk-toggleable__label fitted sk-toggleable__label-arrow fitted\">&nbsp;&nbsp;GridSearchCV<a class=\"sk-estimator-doc-link fitted\" rel=\"noreferrer\" target=\"_blank\" href=\"https://scikit-learn.org/1.5/modules/generated/sklearn.model_selection.GridSearchCV.html\">?<span>Documentation for GridSearchCV</span></a><span class=\"sk-estimator-doc-link fitted\">i<span>Fitted</span></span></label><div class=\"sk-toggleable__content fitted\"><pre>GridSearchCV(cv=5, estimator=KNeighborsRegressor(),\n             param_grid={&#x27;n_neighbors&#x27;: [1, 4, 5, 6, 7, 8, 9, 10, 20],\n                         &#x27;p&#x27;: [1, 2, 3], &#x27;weights&#x27;: [&#x27;uniform&#x27;, &#x27;distance&#x27;]})</pre></div> </div></div><div class=\"sk-parallel\"><div class=\"sk-parallel-item\"><div class=\"sk-item\"><div class=\"sk-label-container\"><div class=\"sk-label fitted sk-toggleable\"><input class=\"sk-toggleable__control sk-hidden--visually\" id=\"sk-estimator-id-9\" type=\"checkbox\" ><label for=\"sk-estimator-id-9\" class=\"sk-toggleable__label fitted sk-toggleable__label-arrow fitted\">best_estimator_: KNeighborsRegressor</label><div class=\"sk-toggleable__content fitted\"><pre>KNeighborsRegressor(n_neighbors=7, weights=&#x27;distance&#x27;)</pre></div> </div></div><div class=\"sk-serial\"><div class=\"sk-item\"><div class=\"sk-estimator fitted sk-toggleable\"><input class=\"sk-toggleable__control sk-hidden--visually\" id=\"sk-estimator-id-10\" type=\"checkbox\" ><label for=\"sk-estimator-id-10\" class=\"sk-toggleable__label fitted sk-toggleable__label-arrow fitted\">&nbsp;KNeighborsRegressor<a class=\"sk-estimator-doc-link fitted\" rel=\"noreferrer\" target=\"_blank\" href=\"https://scikit-learn.org/1.5/modules/generated/sklearn.neighbors.KNeighborsRegressor.html\">?<span>Documentation for KNeighborsRegressor</span></a></label><div class=\"sk-toggleable__content fitted\"><pre>KNeighborsRegressor(n_neighbors=7, weights=&#x27;distance&#x27;)</pre></div> </div></div></div></div></div></div></div></div></div>"
     },
     "execution_count": 90,
     "metadata": {},
     "output_type": "execute_result"
    }
   ],
   "source": [
    "grid_searcher.fit(X_train, y_train)"
   ],
   "metadata": {
    "collapsed": false,
    "ExecuteTime": {
     "end_time": "2024-12-09T07:28:21.813941900Z",
     "start_time": "2024-12-09T07:28:20.048767600Z"
    }
   }
  },
  {
   "cell_type": "code",
   "execution_count": 91,
   "outputs": [],
   "source": [
    "predict=grid_searcher.predict(X_test)"
   ],
   "metadata": {
    "collapsed": false,
    "ExecuteTime": {
     "end_time": "2024-12-09T07:28:25.474059100Z",
     "start_time": "2024-12-09T07:28:25.452009800Z"
    }
   }
  },
  {
   "cell_type": "code",
   "execution_count": 86,
   "outputs": [
    {
     "data": {
      "text/plain": "3.8232917241768916"
     },
     "execution_count": 86,
     "metadata": {},
     "output_type": "execute_result"
    }
   ],
   "source": [
    "mean_squared_error(predict,y_test)"
   ],
   "metadata": {
    "collapsed": false,
    "ExecuteTime": {
     "end_time": "2024-12-09T07:27:48.793114500Z",
     "start_time": "2024-12-09T07:27:48.779116700Z"
    }
   }
  },
  {
   "cell_type": "code",
   "execution_count": 92,
   "outputs": [
    {
     "data": {
      "text/plain": "{'n_neighbors': 7, 'p': 2, 'weights': 'distance'}"
     },
     "execution_count": 92,
     "metadata": {},
     "output_type": "execute_result"
    }
   ],
   "source": [
    "grid_searcher.best_params_"
   ],
   "metadata": {
    "collapsed": false,
    "ExecuteTime": {
     "end_time": "2024-12-09T07:28:27.343455200Z",
     "start_time": "2024-12-09T07:28:27.326453300Z"
    }
   }
  },
  {
   "cell_type": "code",
   "execution_count": 96,
   "outputs": [
    {
     "data": {
      "text/plain": "0.6934250616229004"
     },
     "execution_count": 96,
     "metadata": {},
     "output_type": "execute_result"
    }
   ],
   "source": [
    "1-mean_squared_error(predict,y_test)/np.mean(d_f[\"G3\"])"
   ],
   "metadata": {
    "collapsed": false,
    "ExecuteTime": {
     "end_time": "2024-12-09T07:34:38.716359600Z",
     "start_time": "2024-12-09T07:34:38.699384600Z"
    }
   }
  },
  {
   "cell_type": "code",
   "execution_count": 80,
   "outputs": [
    {
     "data": {
      "text/plain": "Text(0.5, 0, 'Number of neightbors')"
     },
     "execution_count": 80,
     "metadata": {},
     "output_type": "execute_result"
    },
    {
     "data": {
      "text/plain": "<Figure size 640x480 with 1 Axes>",
      "image/png": "[encoded data removed]"
     },
     "metadata": {},
     "output_type": "display_data"
    }
   ],
   "source": [
    "metrics = []\n",
    "for n in range(1, 40, 2):\n",
    "    knn = KNeighborsRegressor(n_neighbors=n)\n",
    "    scores = cross_val_score(knn, X_train, y_train, cv=5, scoring='neg_mean_squared_error')\n",
    "    metrics.append(np.mean(scores))\n",
    "from matplotlib import pyplot as plt\n",
    "\n",
    "plt.plot(range(1, 40, 2), metrics)\n",
    "plt.ylabel('Negative mean squared error')\n",
    "plt.xlabel('Number of neightbors')"
   ],
   "metadata": {
    "collapsed": false,
    "ExecuteTime": {
     "end_time": "2024-12-09T07:26:11.236812800Z",
     "start_time": "2024-12-09T07:26:10.574740800Z"
    }
   }
  },
  {
   "cell_type": "code",
   "execution_count": 94,
   "outputs": [],
   "source": [],
   "metadata": {
    "collapsed": false,
    "ExecuteTime": {
     "end_time": "2024-12-09T07:31:28.163001800Z",
     "start_time": "2024-12-09T07:31:28.153025400Z"
    }
   }
  },
  {
   "cell_type": "code",
   "execution_count": null,
   "outputs": [],
   "source": [],
   "metadata": {
    "collapsed": false
   }
  }
 ]
}
